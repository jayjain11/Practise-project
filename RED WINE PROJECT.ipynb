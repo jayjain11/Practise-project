{
 "cells": [
  {
   "cell_type": "code",
   "execution_count": 1,
   "id": "e17d2b80",
   "metadata": {},
   "outputs": [],
   "source": [
    "#import all the required libraries\n",
    "%matplotlib inline\n",
    "\n",
    "import pandas as pd\n",
    "import numpy as np\n",
    "import matplotlib\n",
    "from matplotlib import pyplot as plt\n",
    "import seaborn as sns\n",
    "import sklearn\n",
    "from sklearn.model_selection import train_test_split\n",
    "from sklearn.preprocessing import StandardScaler\n",
    "from sklearn.metrics import confusion_matrix,classification_report\n",
    "from sklearn.preprocessing import LabelEncoder\n",
    "from sklearn import tree\n",
    "from sklearn.ensemble import RandomForestClassifier\n",
    "from sklearn.linear_model import LogisticRegression\n",
    "from sklearn.svm import SVC\n",
    "from sklearn.tree import DecisionTreeClassifier\n",
    "from sklearn.model_selection import cross_val_score\n",
    "from sklearn.model_selection import GridSearchCV\n",
    "from sklearn.metrics import accuracy_score,plot_roc_curve\n",
    "import warnings\n",
    "warnings.filterwarnings('ignore')"
   ]
  },
  {
   "cell_type": "code",
   "execution_count": 2,
   "id": "87ec5dc0",
   "metadata": {},
   "outputs": [
    {
     "data": {
      "text/html": [
       "<div>\n",
       "<style scoped>\n",
       "    .dataframe tbody tr th:only-of-type {\n",
       "        vertical-align: middle;\n",
       "    }\n",
       "\n",
       "    .dataframe tbody tr th {\n",
       "        vertical-align: top;\n",
       "    }\n",
       "\n",
       "    .dataframe thead th {\n",
       "        text-align: right;\n",
       "    }\n",
       "</style>\n",
       "<table border=\"1\" class=\"dataframe\">\n",
       "  <thead>\n",
       "    <tr style=\"text-align: right;\">\n",
       "      <th></th>\n",
       "      <th>fixed acidity</th>\n",
       "      <th>volatile acidity</th>\n",
       "      <th>citric acid</th>\n",
       "      <th>residual sugar</th>\n",
       "      <th>chlorides</th>\n",
       "      <th>free sulfur dioxide</th>\n",
       "      <th>total sulfur dioxide</th>\n",
       "      <th>density</th>\n",
       "      <th>pH</th>\n",
       "      <th>sulphates</th>\n",
       "      <th>alcohol</th>\n",
       "      <th>quality</th>\n",
       "    </tr>\n",
       "  </thead>\n",
       "  <tbody>\n",
       "    <tr>\n",
       "      <th>0</th>\n",
       "      <td>7.4</td>\n",
       "      <td>0.700</td>\n",
       "      <td>0.00</td>\n",
       "      <td>1.9</td>\n",
       "      <td>0.076</td>\n",
       "      <td>11.0</td>\n",
       "      <td>34.0</td>\n",
       "      <td>0.99780</td>\n",
       "      <td>3.51</td>\n",
       "      <td>0.56</td>\n",
       "      <td>9.4</td>\n",
       "      <td>5</td>\n",
       "    </tr>\n",
       "    <tr>\n",
       "      <th>1</th>\n",
       "      <td>7.8</td>\n",
       "      <td>0.880</td>\n",
       "      <td>0.00</td>\n",
       "      <td>2.6</td>\n",
       "      <td>0.098</td>\n",
       "      <td>25.0</td>\n",
       "      <td>67.0</td>\n",
       "      <td>0.99680</td>\n",
       "      <td>3.20</td>\n",
       "      <td>0.68</td>\n",
       "      <td>9.8</td>\n",
       "      <td>5</td>\n",
       "    </tr>\n",
       "    <tr>\n",
       "      <th>2</th>\n",
       "      <td>7.8</td>\n",
       "      <td>0.760</td>\n",
       "      <td>0.04</td>\n",
       "      <td>2.3</td>\n",
       "      <td>0.092</td>\n",
       "      <td>15.0</td>\n",
       "      <td>54.0</td>\n",
       "      <td>0.99700</td>\n",
       "      <td>3.26</td>\n",
       "      <td>0.65</td>\n",
       "      <td>9.8</td>\n",
       "      <td>5</td>\n",
       "    </tr>\n",
       "    <tr>\n",
       "      <th>3</th>\n",
       "      <td>11.2</td>\n",
       "      <td>0.280</td>\n",
       "      <td>0.56</td>\n",
       "      <td>1.9</td>\n",
       "      <td>0.075</td>\n",
       "      <td>17.0</td>\n",
       "      <td>60.0</td>\n",
       "      <td>0.99800</td>\n",
       "      <td>3.16</td>\n",
       "      <td>0.58</td>\n",
       "      <td>9.8</td>\n",
       "      <td>6</td>\n",
       "    </tr>\n",
       "    <tr>\n",
       "      <th>4</th>\n",
       "      <td>7.4</td>\n",
       "      <td>0.700</td>\n",
       "      <td>0.00</td>\n",
       "      <td>1.9</td>\n",
       "      <td>0.076</td>\n",
       "      <td>11.0</td>\n",
       "      <td>34.0</td>\n",
       "      <td>0.99780</td>\n",
       "      <td>3.51</td>\n",
       "      <td>0.56</td>\n",
       "      <td>9.4</td>\n",
       "      <td>5</td>\n",
       "    </tr>\n",
       "    <tr>\n",
       "      <th>...</th>\n",
       "      <td>...</td>\n",
       "      <td>...</td>\n",
       "      <td>...</td>\n",
       "      <td>...</td>\n",
       "      <td>...</td>\n",
       "      <td>...</td>\n",
       "      <td>...</td>\n",
       "      <td>...</td>\n",
       "      <td>...</td>\n",
       "      <td>...</td>\n",
       "      <td>...</td>\n",
       "      <td>...</td>\n",
       "    </tr>\n",
       "    <tr>\n",
       "      <th>1594</th>\n",
       "      <td>6.2</td>\n",
       "      <td>0.600</td>\n",
       "      <td>0.08</td>\n",
       "      <td>2.0</td>\n",
       "      <td>0.090</td>\n",
       "      <td>32.0</td>\n",
       "      <td>44.0</td>\n",
       "      <td>0.99490</td>\n",
       "      <td>3.45</td>\n",
       "      <td>0.58</td>\n",
       "      <td>10.5</td>\n",
       "      <td>5</td>\n",
       "    </tr>\n",
       "    <tr>\n",
       "      <th>1595</th>\n",
       "      <td>5.9</td>\n",
       "      <td>0.550</td>\n",
       "      <td>0.10</td>\n",
       "      <td>2.2</td>\n",
       "      <td>0.062</td>\n",
       "      <td>39.0</td>\n",
       "      <td>51.0</td>\n",
       "      <td>0.99512</td>\n",
       "      <td>3.52</td>\n",
       "      <td>0.76</td>\n",
       "      <td>11.2</td>\n",
       "      <td>6</td>\n",
       "    </tr>\n",
       "    <tr>\n",
       "      <th>1596</th>\n",
       "      <td>6.3</td>\n",
       "      <td>0.510</td>\n",
       "      <td>0.13</td>\n",
       "      <td>2.3</td>\n",
       "      <td>0.076</td>\n",
       "      <td>29.0</td>\n",
       "      <td>40.0</td>\n",
       "      <td>0.99574</td>\n",
       "      <td>3.42</td>\n",
       "      <td>0.75</td>\n",
       "      <td>11.0</td>\n",
       "      <td>6</td>\n",
       "    </tr>\n",
       "    <tr>\n",
       "      <th>1597</th>\n",
       "      <td>5.9</td>\n",
       "      <td>0.645</td>\n",
       "      <td>0.12</td>\n",
       "      <td>2.0</td>\n",
       "      <td>0.075</td>\n",
       "      <td>32.0</td>\n",
       "      <td>44.0</td>\n",
       "      <td>0.99547</td>\n",
       "      <td>3.57</td>\n",
       "      <td>0.71</td>\n",
       "      <td>10.2</td>\n",
       "      <td>5</td>\n",
       "    </tr>\n",
       "    <tr>\n",
       "      <th>1598</th>\n",
       "      <td>6.0</td>\n",
       "      <td>0.310</td>\n",
       "      <td>0.47</td>\n",
       "      <td>3.6</td>\n",
       "      <td>0.067</td>\n",
       "      <td>18.0</td>\n",
       "      <td>42.0</td>\n",
       "      <td>0.99549</td>\n",
       "      <td>3.39</td>\n",
       "      <td>0.66</td>\n",
       "      <td>11.0</td>\n",
       "      <td>6</td>\n",
       "    </tr>\n",
       "  </tbody>\n",
       "</table>\n",
       "<p>1599 rows × 12 columns</p>\n",
       "</div>"
      ],
      "text/plain": [
       "      fixed acidity  volatile acidity  citric acid  residual sugar  chlorides  \\\n",
       "0               7.4             0.700         0.00             1.9      0.076   \n",
       "1               7.8             0.880         0.00             2.6      0.098   \n",
       "2               7.8             0.760         0.04             2.3      0.092   \n",
       "3              11.2             0.280         0.56             1.9      0.075   \n",
       "4               7.4             0.700         0.00             1.9      0.076   \n",
       "...             ...               ...          ...             ...        ...   \n",
       "1594            6.2             0.600         0.08             2.0      0.090   \n",
       "1595            5.9             0.550         0.10             2.2      0.062   \n",
       "1596            6.3             0.510         0.13             2.3      0.076   \n",
       "1597            5.9             0.645         0.12             2.0      0.075   \n",
       "1598            6.0             0.310         0.47             3.6      0.067   \n",
       "\n",
       "      free sulfur dioxide  total sulfur dioxide  density    pH  sulphates  \\\n",
       "0                    11.0                  34.0  0.99780  3.51       0.56   \n",
       "1                    25.0                  67.0  0.99680  3.20       0.68   \n",
       "2                    15.0                  54.0  0.99700  3.26       0.65   \n",
       "3                    17.0                  60.0  0.99800  3.16       0.58   \n",
       "4                    11.0                  34.0  0.99780  3.51       0.56   \n",
       "...                   ...                   ...      ...   ...        ...   \n",
       "1594                 32.0                  44.0  0.99490  3.45       0.58   \n",
       "1595                 39.0                  51.0  0.99512  3.52       0.76   \n",
       "1596                 29.0                  40.0  0.99574  3.42       0.75   \n",
       "1597                 32.0                  44.0  0.99547  3.57       0.71   \n",
       "1598                 18.0                  42.0  0.99549  3.39       0.66   \n",
       "\n",
       "      alcohol  quality  \n",
       "0         9.4        5  \n",
       "1         9.8        5  \n",
       "2         9.8        5  \n",
       "3         9.8        6  \n",
       "4         9.4        5  \n",
       "...       ...      ...  \n",
       "1594     10.5        5  \n",
       "1595     11.2        6  \n",
       "1596     11.0        6  \n",
       "1597     10.2        5  \n",
       "1598     11.0        6  \n",
       "\n",
       "[1599 rows x 12 columns]"
      ]
     },
     "execution_count": 2,
     "metadata": {},
     "output_type": "execute_result"
    }
   ],
   "source": [
    "wine = pd.read_csv('RED_WINE')\n",
    "wine"
   ]
  },
  {
   "cell_type": "markdown",
   "id": "856a2a7b",
   "metadata": {},
   "source": [
    "Exploratory Data Analysis"
   ]
  },
  {
   "cell_type": "code",
   "execution_count": 3,
   "id": "6082e0c7",
   "metadata": {},
   "outputs": [
    {
     "data": {
      "text/plain": [
       "Index(['fixed acidity', 'volatile acidity', 'citric acid', 'residual sugar',\n",
       "       'chlorides', 'free sulfur dioxide', 'total sulfur dioxide', 'density',\n",
       "       'pH', 'sulphates', 'alcohol', 'quality'],\n",
       "      dtype='object')"
      ]
     },
     "execution_count": 3,
     "metadata": {},
     "output_type": "execute_result"
    }
   ],
   "source": [
    "# check column names\n",
    "wine.columns"
   ]
  },
  {
   "cell_type": "code",
   "execution_count": 4,
   "id": "6eece5c2",
   "metadata": {},
   "outputs": [
    {
     "data": {
      "text/html": [
       "<div>\n",
       "<style scoped>\n",
       "    .dataframe tbody tr th:only-of-type {\n",
       "        vertical-align: middle;\n",
       "    }\n",
       "\n",
       "    .dataframe tbody tr th {\n",
       "        vertical-align: top;\n",
       "    }\n",
       "\n",
       "    .dataframe thead th {\n",
       "        text-align: right;\n",
       "    }\n",
       "</style>\n",
       "<table border=\"1\" class=\"dataframe\">\n",
       "  <thead>\n",
       "    <tr style=\"text-align: right;\">\n",
       "      <th></th>\n",
       "      <th>fixed_acidity</th>\n",
       "      <th>volatile_acidity</th>\n",
       "      <th>citric_acid</th>\n",
       "      <th>residual_sugar</th>\n",
       "      <th>chlorides</th>\n",
       "      <th>free_sulfur_dioxide</th>\n",
       "      <th>total_sulfur_dioxide</th>\n",
       "      <th>density</th>\n",
       "      <th>pH</th>\n",
       "      <th>sulphates</th>\n",
       "      <th>alcohol</th>\n",
       "      <th>quality</th>\n",
       "    </tr>\n",
       "  </thead>\n",
       "  <tbody>\n",
       "    <tr>\n",
       "      <th>0</th>\n",
       "      <td>7.4</td>\n",
       "      <td>0.7</td>\n",
       "      <td>0.0</td>\n",
       "      <td>1.9</td>\n",
       "      <td>0.076</td>\n",
       "      <td>11.0</td>\n",
       "      <td>34.0</td>\n",
       "      <td>0.9978</td>\n",
       "      <td>3.51</td>\n",
       "      <td>0.56</td>\n",
       "      <td>9.4</td>\n",
       "      <td>5</td>\n",
       "    </tr>\n",
       "  </tbody>\n",
       "</table>\n",
       "</div>"
      ],
      "text/plain": [
       "   fixed_acidity  volatile_acidity  citric_acid  residual_sugar  chlorides  \\\n",
       "0            7.4               0.7          0.0             1.9      0.076   \n",
       "\n",
       "   free_sulfur_dioxide  total_sulfur_dioxide  density    pH  sulphates  \\\n",
       "0                 11.0                  34.0   0.9978  3.51       0.56   \n",
       "\n",
       "   alcohol  quality  \n",
       "0      9.4        5  "
      ]
     },
     "execution_count": 4,
     "metadata": {},
     "output_type": "execute_result"
    }
   ],
   "source": [
    "# replacing the whitespace with underscore for convinience\n",
    "wine.columns = wine.columns.str.replace(' ', '_')\n",
    "wine.head(1)"
   ]
  },
  {
   "cell_type": "code",
   "execution_count": 5,
   "id": "9fe5afbe",
   "metadata": {},
   "outputs": [
    {
     "data": {
      "text/plain": [
       "(1599, 12)"
      ]
     },
     "execution_count": 5,
     "metadata": {},
     "output_type": "execute_result"
    }
   ],
   "source": [
    "# check number of columns and rows\n",
    "wine.shape"
   ]
  },
  {
   "cell_type": "code",
   "execution_count": 6,
   "id": "ee8f8086",
   "metadata": {},
   "outputs": [
    {
     "data": {
      "text/plain": [
       "fixed_acidity           0\n",
       "volatile_acidity        0\n",
       "citric_acid             0\n",
       "residual_sugar          0\n",
       "chlorides               0\n",
       "free_sulfur_dioxide     0\n",
       "total_sulfur_dioxide    0\n",
       "density                 0\n",
       "pH                      0\n",
       "sulphates               0\n",
       "alcohol                 0\n",
       "quality                 0\n",
       "dtype: int64"
      ]
     },
     "execution_count": 6,
     "metadata": {},
     "output_type": "execute_result"
    }
   ],
   "source": [
    "#to check for null values\n",
    "wine.isnull().sum()"
   ]
  },
  {
   "cell_type": "code",
   "execution_count": 7,
   "id": "1f70306b",
   "metadata": {},
   "outputs": [
    {
     "data": {
      "text/plain": [
       "240"
      ]
     },
     "execution_count": 7,
     "metadata": {},
     "output_type": "execute_result"
    }
   ],
   "source": [
    "# To check for duplicate values\n",
    "wine.duplicated().sum()"
   ]
  },
  {
   "cell_type": "code",
   "execution_count": 8,
   "id": "896fafb0",
   "metadata": {},
   "outputs": [
    {
     "name": "stdout",
     "output_type": "stream",
     "text": [
      "Number of rows after removing duplicates= 1359\n"
     ]
    }
   ],
   "source": [
    "#dropping duplicate rows and resetting index\n",
    "wine.drop_duplicates(inplace=True)\n",
    "wine.reset_index(drop=True, inplace=True)\n",
    "print('Number of rows after removing duplicates=', len(wine))"
   ]
  },
  {
   "cell_type": "code",
   "execution_count": 9,
   "id": "4e73b67c",
   "metadata": {},
   "outputs": [
    {
     "name": "stdout",
     "output_type": "stream",
     "text": [
      "<class 'pandas.core.frame.DataFrame'>\n",
      "RangeIndex: 1359 entries, 0 to 1358\n",
      "Data columns (total 12 columns):\n",
      " #   Column                Non-Null Count  Dtype  \n",
      "---  ------                --------------  -----  \n",
      " 0   fixed_acidity         1359 non-null   float64\n",
      " 1   volatile_acidity      1359 non-null   float64\n",
      " 2   citric_acid           1359 non-null   float64\n",
      " 3   residual_sugar        1359 non-null   float64\n",
      " 4   chlorides             1359 non-null   float64\n",
      " 5   free_sulfur_dioxide   1359 non-null   float64\n",
      " 6   total_sulfur_dioxide  1359 non-null   float64\n",
      " 7   density               1359 non-null   float64\n",
      " 8   pH                    1359 non-null   float64\n",
      " 9   sulphates             1359 non-null   float64\n",
      " 10  alcohol               1359 non-null   float64\n",
      " 11  quality               1359 non-null   int64  \n",
      "dtypes: float64(11), int64(1)\n",
      "memory usage: 127.5 KB\n"
     ]
    }
   ],
   "source": [
    "# to understand dataset\n",
    "wine.info()"
   ]
  },
  {
   "cell_type": "code",
   "execution_count": 10,
   "id": "b751c391",
   "metadata": {},
   "outputs": [
    {
     "data": {
      "text/plain": [
       "5    577\n",
       "6    535\n",
       "7    167\n",
       "4     53\n",
       "8     17\n",
       "3     10\n",
       "Name: quality, dtype: int64"
      ]
     },
     "execution_count": 10,
     "metadata": {},
     "output_type": "execute_result"
    }
   ],
   "source": [
    "# to understand the wine catagories\n",
    "wine.quality.value_counts(sort=False)"
   ]
  },
  {
   "cell_type": "markdown",
   "id": "9306b559",
   "metadata": {},
   "source": [
    "visualization"
   ]
  },
  {
   "cell_type": "code",
   "execution_count": 11,
   "id": "bfbd0c88",
   "metadata": {},
   "outputs": [
    {
     "data": {
      "text/plain": [
       "[Text(0.5, 1.0, 'HISTOGRAM OF WINE QUALITY'),\n",
       " Text(0.5, 0, 'quality'),\n",
       " Text(0, 0.5, 'count')]"
      ]
     },
     "execution_count": 11,
     "metadata": {},
     "output_type": "execute_result"
    },
    {
     "data": {
      "image/png": "[encoded data removed]",
      "text/plain": [
       "<Figure size 432x288 with 1 Axes>"
      ]
     },
     "metadata": {
      "needs_background": "light"
     },
     "output_type": "display_data"
    }
   ],
   "source": [
    "plt = sns.countplot(x='quality',data=wine)\n",
    "plt.set(title='HISTOGRAM OF WINE QUALITY',xlabel='quality',ylabel='count')"
   ]
  },
  {
   "cell_type": "code",
   "execution_count": 12,
   "id": "532922e9",
   "metadata": {},
   "outputs": [
    {
     "data": {
      "text/plain": [
       "<AxesSubplot:xlabel='quality', ylabel='fixed_acidity'>"
      ]
     },
     "execution_count": 12,
     "metadata": {},
     "output_type": "execute_result"
    },
    {
     "data": {
      "image/png": "[encoded data removed]",
      "text/plain": [
       "<Figure size 432x288 with 1 Axes>"
      ]
     },
     "metadata": {
      "needs_background": "light"
     },
     "output_type": "display_data"
    }
   ],
   "source": [
    "# to understand how each feature is effecting the target value(quality of wine).\n",
    "sns.barplot(x='quality',y='fixed_acidity',data=wine)"
   ]
  },
  {
   "cell_type": "code",
   "execution_count": 13,
   "id": "fc5e36c3",
   "metadata": {},
   "outputs": [
    {
     "data": {
      "text/plain": [
       "<AxesSubplot:xlabel='quality', ylabel='volatile_acidity'>"
      ]
     },
     "execution_count": 13,
     "metadata": {},
     "output_type": "execute_result"
    },
    {
     "data": {
      "image/png": "[encoded data removed]",
      "text/plain": [
       "<Figure size 432x288 with 1 Axes>"
      ]
     },
     "metadata": {
      "needs_background": "light"
     },
     "output_type": "display_data"
    }
   ],
   "source": [
    "sns.barplot(x='quality',y='volatile_acidity',data=wine)"
   ]
  },
  {
   "cell_type": "code",
   "execution_count": 14,
   "id": "19fcb159",
   "metadata": {},
   "outputs": [
    {
     "data": {
      "text/plain": [
       "<AxesSubplot:xlabel='quality', ylabel='citric_acid'>"
      ]
     },
     "execution_count": 14,
     "metadata": {},
     "output_type": "execute_result"
    },
    {
     "data": {
      "image/png": "[encoded data removed]",
      "text/plain": [
       "<Figure size 432x288 with 1 Axes>"
      ]
     },
     "metadata": {
      "needs_background": "light"
     },
     "output_type": "display_data"
    }
   ],
   "source": [
    "sns.barplot(x='quality',y='citric_acid',data=wine)"
   ]
  },
  {
   "cell_type": "code",
   "execution_count": 15,
   "id": "e65a3b63",
   "metadata": {},
   "outputs": [
    {
     "data": {
      "text/plain": [
       "<AxesSubplot:xlabel='quality', ylabel='residual_sugar'>"
      ]
     },
     "execution_count": 15,
     "metadata": {},
     "output_type": "execute_result"
    },
    {
     "data": {
      "image/png": "[encoded data removed]",
      "text/plain": [
       "<Figure size 432x288 with 1 Axes>"
      ]
     },
     "metadata": {
      "needs_background": "light"
     },
     "output_type": "display_data"
    }
   ],
   "source": [
    "sns.barplot(x='quality',y='residual_sugar',data=wine)"
   ]
  },
  {
   "cell_type": "code",
   "execution_count": 16,
   "id": "a3ffe207",
   "metadata": {},
   "outputs": [
    {
     "data": {
      "text/plain": [
       "<AxesSubplot:xlabel='quality', ylabel='chlorides'>"
      ]
     },
     "execution_count": 16,
     "metadata": {},
     "output_type": "execute_result"
    },
    {
     "data": {
      "image/png": "[encoded data removed]",
      "text/plain": [
       "<Figure size 432x288 with 1 Axes>"
      ]
     },
     "metadata": {
      "needs_background": "light"
     },
     "output_type": "display_data"
    }
   ],
   "source": [
    "sns.barplot(x='quality',y='chlorides',data=wine)"
   ]
  },
  {
   "cell_type": "code",
   "execution_count": 17,
   "id": "47fdd6e3",
   "metadata": {},
   "outputs": [
    {
     "data": {
      "text/plain": [
       "<AxesSubplot:xlabel='quality', ylabel='free_sulfur_dioxide'>"
      ]
     },
     "execution_count": 17,
     "metadata": {},
     "output_type": "execute_result"
    },
    {
     "data": {
      "image/png": "[encoded data removed]",
      "text/plain": [
       "<Figure size 432x288 with 1 Axes>"
      ]
     },
     "metadata": {
      "needs_background": "light"
     },
     "output_type": "display_data"
    }
   ],
   "source": [
    "sns.barplot(x='quality',y='free_sulfur_dioxide',data=wine)"
   ]
  },
  {
   "cell_type": "code",
   "execution_count": 18,
   "id": "a160604b",
   "metadata": {},
   "outputs": [
    {
     "data": {
      "text/plain": [
       "<AxesSubplot:xlabel='quality', ylabel='total_sulfur_dioxide'>"
      ]
     },
     "execution_count": 18,
     "metadata": {},
     "output_type": "execute_result"
    },
    {
     "data": {
      "image/png": "[encoded data removed]",
      "text/plain": [
       "<Figure size 432x288 with 1 Axes>"
      ]
     },
     "metadata": {
      "needs_background": "light"
     },
     "output_type": "display_data"
    }
   ],
   "source": [
    "sns.barplot(x='quality',y='total_sulfur_dioxide',data=wine)"
   ]
  },
  {
   "cell_type": "code",
   "execution_count": 19,
   "id": "4f2fff54",
   "metadata": {},
   "outputs": [
    {
     "data": {
      "text/plain": [
       "<AxesSubplot:xlabel='quality', ylabel='density'>"
      ]
     },
     "execution_count": 19,
     "metadata": {},
     "output_type": "execute_result"
    },
    {
     "data": {
      "image/png": "[encoded data removed]",
      "text/plain": [
       "<Figure size 432x288 with 1 Axes>"
      ]
     },
     "metadata": {
      "needs_background": "light"
     },
     "output_type": "display_data"
    }
   ],
   "source": [
    "sns.barplot(x='quality',y='density',data=wine)"
   ]
  },
  {
   "cell_type": "code",
   "execution_count": 20,
   "id": "58f427f8",
   "metadata": {},
   "outputs": [
    {
     "data": {
      "text/plain": [
       "<AxesSubplot:xlabel='quality', ylabel='pH'>"
      ]
     },
     "execution_count": 20,
     "metadata": {},
     "output_type": "execute_result"
    },
    {
     "data": {
      "image/png": "[encoded data removed]",
      "text/plain": [
       "<Figure size 432x288 with 1 Axes>"
      ]
     },
     "metadata": {
      "needs_background": "light"
     },
     "output_type": "display_data"
    }
   ],
   "source": [
    "sns.barplot(x='quality',y='pH',data=wine)"
   ]
  },
  {
   "cell_type": "code",
   "execution_count": 21,
   "id": "675b42f2",
   "metadata": {},
   "outputs": [
    {
     "data": {
      "text/plain": [
       "<AxesSubplot:xlabel='quality', ylabel='sulphates'>"
      ]
     },
     "execution_count": 21,
     "metadata": {},
     "output_type": "execute_result"
    },
    {
     "data": {
      "image/png": "[encoded data removed]",
      "text/plain": [
       "<Figure size 432x288 with 1 Axes>"
      ]
     },
     "metadata": {
      "needs_background": "light"
     },
     "output_type": "display_data"
    }
   ],
   "source": [
    "sns.barplot(x='quality',y='sulphates',data=wine)"
   ]
  },
  {
   "cell_type": "code",
   "execution_count": 22,
   "id": "f62f3730",
   "metadata": {},
   "outputs": [
    {
     "data": {
      "text/plain": [
       "<AxesSubplot:xlabel='quality', ylabel='alcohol'>"
      ]
     },
     "execution_count": 22,
     "metadata": {},
     "output_type": "execute_result"
    },
    {
     "data": {
      "image/png": "[encoded data removed]",
      "text/plain": [
       "<Figure size 432x288 with 1 Axes>"
      ]
     },
     "metadata": {
      "needs_background": "light"
     },
     "output_type": "display_data"
    }
   ],
   "source": [
    "sns.barplot(x='quality',y='alcohol',data=wine)"
   ]
  },
  {
   "cell_type": "code",
   "execution_count": 23,
   "id": "d06abdb8",
   "metadata": {},
   "outputs": [
    {
     "data": {
      "text/html": [
       "<div>\n",
       "<style scoped>\n",
       "    .dataframe tbody tr th:only-of-type {\n",
       "        vertical-align: middle;\n",
       "    }\n",
       "\n",
       "    .dataframe tbody tr th {\n",
       "        vertical-align: top;\n",
       "    }\n",
       "\n",
       "    .dataframe thead th {\n",
       "        text-align: right;\n",
       "    }\n",
       "</style>\n",
       "<table border=\"1\" class=\"dataframe\">\n",
       "  <thead>\n",
       "    <tr style=\"text-align: right;\">\n",
       "      <th></th>\n",
       "      <th>fixed_acidity</th>\n",
       "      <th>volatile_acidity</th>\n",
       "      <th>citric_acid</th>\n",
       "      <th>residual_sugar</th>\n",
       "      <th>chlorides</th>\n",
       "      <th>free_sulfur_dioxide</th>\n",
       "      <th>total_sulfur_dioxide</th>\n",
       "      <th>density</th>\n",
       "      <th>pH</th>\n",
       "      <th>sulphates</th>\n",
       "      <th>alcohol</th>\n",
       "      <th>quality</th>\n",
       "      <th>quality2</th>\n",
       "    </tr>\n",
       "  </thead>\n",
       "  <tbody>\n",
       "    <tr>\n",
       "      <th>0</th>\n",
       "      <td>7.4</td>\n",
       "      <td>0.70</td>\n",
       "      <td>0.00</td>\n",
       "      <td>1.9</td>\n",
       "      <td>0.076</td>\n",
       "      <td>11.0</td>\n",
       "      <td>34.0</td>\n",
       "      <td>0.9978</td>\n",
       "      <td>3.51</td>\n",
       "      <td>0.56</td>\n",
       "      <td>9.4</td>\n",
       "      <td>5</td>\n",
       "      <td>bad</td>\n",
       "    </tr>\n",
       "    <tr>\n",
       "      <th>1</th>\n",
       "      <td>7.8</td>\n",
       "      <td>0.88</td>\n",
       "      <td>0.00</td>\n",
       "      <td>2.6</td>\n",
       "      <td>0.098</td>\n",
       "      <td>25.0</td>\n",
       "      <td>67.0</td>\n",
       "      <td>0.9968</td>\n",
       "      <td>3.20</td>\n",
       "      <td>0.68</td>\n",
       "      <td>9.8</td>\n",
       "      <td>5</td>\n",
       "      <td>bad</td>\n",
       "    </tr>\n",
       "    <tr>\n",
       "      <th>2</th>\n",
       "      <td>7.8</td>\n",
       "      <td>0.76</td>\n",
       "      <td>0.04</td>\n",
       "      <td>2.3</td>\n",
       "      <td>0.092</td>\n",
       "      <td>15.0</td>\n",
       "      <td>54.0</td>\n",
       "      <td>0.9970</td>\n",
       "      <td>3.26</td>\n",
       "      <td>0.65</td>\n",
       "      <td>9.8</td>\n",
       "      <td>5</td>\n",
       "      <td>bad</td>\n",
       "    </tr>\n",
       "    <tr>\n",
       "      <th>3</th>\n",
       "      <td>11.2</td>\n",
       "      <td>0.28</td>\n",
       "      <td>0.56</td>\n",
       "      <td>1.9</td>\n",
       "      <td>0.075</td>\n",
       "      <td>17.0</td>\n",
       "      <td>60.0</td>\n",
       "      <td>0.9980</td>\n",
       "      <td>3.16</td>\n",
       "      <td>0.58</td>\n",
       "      <td>9.8</td>\n",
       "      <td>6</td>\n",
       "      <td>bad</td>\n",
       "    </tr>\n",
       "    <tr>\n",
       "      <th>4</th>\n",
       "      <td>7.4</td>\n",
       "      <td>0.66</td>\n",
       "      <td>0.00</td>\n",
       "      <td>1.8</td>\n",
       "      <td>0.075</td>\n",
       "      <td>13.0</td>\n",
       "      <td>40.0</td>\n",
       "      <td>0.9978</td>\n",
       "      <td>3.51</td>\n",
       "      <td>0.56</td>\n",
       "      <td>9.4</td>\n",
       "      <td>5</td>\n",
       "      <td>bad</td>\n",
       "    </tr>\n",
       "  </tbody>\n",
       "</table>\n",
       "</div>"
      ],
      "text/plain": [
       "   fixed_acidity  volatile_acidity  citric_acid  residual_sugar  chlorides  \\\n",
       "0            7.4              0.70         0.00             1.9      0.076   \n",
       "1            7.8              0.88         0.00             2.6      0.098   \n",
       "2            7.8              0.76         0.04             2.3      0.092   \n",
       "3           11.2              0.28         0.56             1.9      0.075   \n",
       "4            7.4              0.66         0.00             1.8      0.075   \n",
       "\n",
       "   free_sulfur_dioxide  total_sulfur_dioxide  density    pH  sulphates  \\\n",
       "0                 11.0                  34.0   0.9978  3.51       0.56   \n",
       "1                 25.0                  67.0   0.9968  3.20       0.68   \n",
       "2                 15.0                  54.0   0.9970  3.26       0.65   \n",
       "3                 17.0                  60.0   0.9980  3.16       0.58   \n",
       "4                 13.0                  40.0   0.9978  3.51       0.56   \n",
       "\n",
       "   alcohol  quality quality2  \n",
       "0      9.4        5      bad  \n",
       "1      9.8        5      bad  \n",
       "2      9.8        5      bad  \n",
       "3      9.8        6      bad  \n",
       "4      9.4        5      bad  "
      ]
     },
     "execution_count": 23,
     "metadata": {},
     "output_type": "execute_result"
    }
   ],
   "source": [
    "#to reduce the variation between each category of quality column, merge categories in to two\n",
    "wine_quality = {3:'bad', 4:'bad',5:'bad',6:'bad',7:'good',8:'good'}\n",
    "wine['quality2'] = wine.quality.map(wine_quality)\n",
    "wine.head()"
   ]
  },
  {
   "cell_type": "code",
   "execution_count": 24,
   "id": "ce40482f",
   "metadata": {},
   "outputs": [
    {
     "data": {
      "text/html": [
       "<div>\n",
       "<style scoped>\n",
       "    .dataframe tbody tr th:only-of-type {\n",
       "        vertical-align: middle;\n",
       "    }\n",
       "\n",
       "    .dataframe tbody tr th {\n",
       "        vertical-align: top;\n",
       "    }\n",
       "\n",
       "    .dataframe thead th {\n",
       "        text-align: right;\n",
       "    }\n",
       "</style>\n",
       "<table border=\"1\" class=\"dataframe\">\n",
       "  <thead>\n",
       "    <tr style=\"text-align: right;\">\n",
       "      <th></th>\n",
       "      <th>fixed_acidity</th>\n",
       "      <th>volatile_acidity</th>\n",
       "      <th>citric_acid</th>\n",
       "      <th>residual_sugar</th>\n",
       "      <th>chlorides</th>\n",
       "      <th>free_sulfur_dioxide</th>\n",
       "      <th>total_sulfur_dioxide</th>\n",
       "      <th>density</th>\n",
       "      <th>pH</th>\n",
       "      <th>sulphates</th>\n",
       "      <th>alcohol</th>\n",
       "      <th>quality</th>\n",
       "      <th>quality2</th>\n",
       "    </tr>\n",
       "  </thead>\n",
       "  <tbody>\n",
       "    <tr>\n",
       "      <th>0</th>\n",
       "      <td>7.4</td>\n",
       "      <td>0.700</td>\n",
       "      <td>0.00</td>\n",
       "      <td>1.9</td>\n",
       "      <td>0.076</td>\n",
       "      <td>11.0</td>\n",
       "      <td>34.0</td>\n",
       "      <td>0.99780</td>\n",
       "      <td>3.51</td>\n",
       "      <td>0.56</td>\n",
       "      <td>9.4</td>\n",
       "      <td>5</td>\n",
       "      <td>0</td>\n",
       "    </tr>\n",
       "    <tr>\n",
       "      <th>1</th>\n",
       "      <td>7.8</td>\n",
       "      <td>0.880</td>\n",
       "      <td>0.00</td>\n",
       "      <td>2.6</td>\n",
       "      <td>0.098</td>\n",
       "      <td>25.0</td>\n",
       "      <td>67.0</td>\n",
       "      <td>0.99680</td>\n",
       "      <td>3.20</td>\n",
       "      <td>0.68</td>\n",
       "      <td>9.8</td>\n",
       "      <td>5</td>\n",
       "      <td>0</td>\n",
       "    </tr>\n",
       "    <tr>\n",
       "      <th>2</th>\n",
       "      <td>7.8</td>\n",
       "      <td>0.760</td>\n",
       "      <td>0.04</td>\n",
       "      <td>2.3</td>\n",
       "      <td>0.092</td>\n",
       "      <td>15.0</td>\n",
       "      <td>54.0</td>\n",
       "      <td>0.99700</td>\n",
       "      <td>3.26</td>\n",
       "      <td>0.65</td>\n",
       "      <td>9.8</td>\n",
       "      <td>5</td>\n",
       "      <td>0</td>\n",
       "    </tr>\n",
       "    <tr>\n",
       "      <th>3</th>\n",
       "      <td>11.2</td>\n",
       "      <td>0.280</td>\n",
       "      <td>0.56</td>\n",
       "      <td>1.9</td>\n",
       "      <td>0.075</td>\n",
       "      <td>17.0</td>\n",
       "      <td>60.0</td>\n",
       "      <td>0.99800</td>\n",
       "      <td>3.16</td>\n",
       "      <td>0.58</td>\n",
       "      <td>9.8</td>\n",
       "      <td>6</td>\n",
       "      <td>0</td>\n",
       "    </tr>\n",
       "    <tr>\n",
       "      <th>4</th>\n",
       "      <td>7.4</td>\n",
       "      <td>0.660</td>\n",
       "      <td>0.00</td>\n",
       "      <td>1.8</td>\n",
       "      <td>0.075</td>\n",
       "      <td>13.0</td>\n",
       "      <td>40.0</td>\n",
       "      <td>0.99780</td>\n",
       "      <td>3.51</td>\n",
       "      <td>0.56</td>\n",
       "      <td>9.4</td>\n",
       "      <td>5</td>\n",
       "      <td>0</td>\n",
       "    </tr>\n",
       "    <tr>\n",
       "      <th>...</th>\n",
       "      <td>...</td>\n",
       "      <td>...</td>\n",
       "      <td>...</td>\n",
       "      <td>...</td>\n",
       "      <td>...</td>\n",
       "      <td>...</td>\n",
       "      <td>...</td>\n",
       "      <td>...</td>\n",
       "      <td>...</td>\n",
       "      <td>...</td>\n",
       "      <td>...</td>\n",
       "      <td>...</td>\n",
       "      <td>...</td>\n",
       "    </tr>\n",
       "    <tr>\n",
       "      <th>1354</th>\n",
       "      <td>6.8</td>\n",
       "      <td>0.620</td>\n",
       "      <td>0.08</td>\n",
       "      <td>1.9</td>\n",
       "      <td>0.068</td>\n",
       "      <td>28.0</td>\n",
       "      <td>38.0</td>\n",
       "      <td>0.99651</td>\n",
       "      <td>3.42</td>\n",
       "      <td>0.82</td>\n",
       "      <td>9.5</td>\n",
       "      <td>6</td>\n",
       "      <td>0</td>\n",
       "    </tr>\n",
       "    <tr>\n",
       "      <th>1355</th>\n",
       "      <td>6.2</td>\n",
       "      <td>0.600</td>\n",
       "      <td>0.08</td>\n",
       "      <td>2.0</td>\n",
       "      <td>0.090</td>\n",
       "      <td>32.0</td>\n",
       "      <td>44.0</td>\n",
       "      <td>0.99490</td>\n",
       "      <td>3.45</td>\n",
       "      <td>0.58</td>\n",
       "      <td>10.5</td>\n",
       "      <td>5</td>\n",
       "      <td>0</td>\n",
       "    </tr>\n",
       "    <tr>\n",
       "      <th>1356</th>\n",
       "      <td>5.9</td>\n",
       "      <td>0.550</td>\n",
       "      <td>0.10</td>\n",
       "      <td>2.2</td>\n",
       "      <td>0.062</td>\n",
       "      <td>39.0</td>\n",
       "      <td>51.0</td>\n",
       "      <td>0.99512</td>\n",
       "      <td>3.52</td>\n",
       "      <td>0.76</td>\n",
       "      <td>11.2</td>\n",
       "      <td>6</td>\n",
       "      <td>0</td>\n",
       "    </tr>\n",
       "    <tr>\n",
       "      <th>1357</th>\n",
       "      <td>5.9</td>\n",
       "      <td>0.645</td>\n",
       "      <td>0.12</td>\n",
       "      <td>2.0</td>\n",
       "      <td>0.075</td>\n",
       "      <td>32.0</td>\n",
       "      <td>44.0</td>\n",
       "      <td>0.99547</td>\n",
       "      <td>3.57</td>\n",
       "      <td>0.71</td>\n",
       "      <td>10.2</td>\n",
       "      <td>5</td>\n",
       "      <td>0</td>\n",
       "    </tr>\n",
       "    <tr>\n",
       "      <th>1358</th>\n",
       "      <td>6.0</td>\n",
       "      <td>0.310</td>\n",
       "      <td>0.47</td>\n",
       "      <td>3.6</td>\n",
       "      <td>0.067</td>\n",
       "      <td>18.0</td>\n",
       "      <td>42.0</td>\n",
       "      <td>0.99549</td>\n",
       "      <td>3.39</td>\n",
       "      <td>0.66</td>\n",
       "      <td>11.0</td>\n",
       "      <td>6</td>\n",
       "      <td>0</td>\n",
       "    </tr>\n",
       "  </tbody>\n",
       "</table>\n",
       "<p>1359 rows × 13 columns</p>\n",
       "</div>"
      ],
      "text/plain": [
       "      fixed_acidity  volatile_acidity  citric_acid  residual_sugar  chlorides  \\\n",
       "0               7.4             0.700         0.00             1.9      0.076   \n",
       "1               7.8             0.880         0.00             2.6      0.098   \n",
       "2               7.8             0.760         0.04             2.3      0.092   \n",
       "3              11.2             0.280         0.56             1.9      0.075   \n",
       "4               7.4             0.660         0.00             1.8      0.075   \n",
       "...             ...               ...          ...             ...        ...   \n",
       "1354            6.8             0.620         0.08             1.9      0.068   \n",
       "1355            6.2             0.600         0.08             2.0      0.090   \n",
       "1356            5.9             0.550         0.10             2.2      0.062   \n",
       "1357            5.9             0.645         0.12             2.0      0.075   \n",
       "1358            6.0             0.310         0.47             3.6      0.067   \n",
       "\n",
       "      free_sulfur_dioxide  total_sulfur_dioxide  density    pH  sulphates  \\\n",
       "0                    11.0                  34.0  0.99780  3.51       0.56   \n",
       "1                    25.0                  67.0  0.99680  3.20       0.68   \n",
       "2                    15.0                  54.0  0.99700  3.26       0.65   \n",
       "3                    17.0                  60.0  0.99800  3.16       0.58   \n",
       "4                    13.0                  40.0  0.99780  3.51       0.56   \n",
       "...                   ...                   ...      ...   ...        ...   \n",
       "1354                 28.0                  38.0  0.99651  3.42       0.82   \n",
       "1355                 32.0                  44.0  0.99490  3.45       0.58   \n",
       "1356                 39.0                  51.0  0.99512  3.52       0.76   \n",
       "1357                 32.0                  44.0  0.99547  3.57       0.71   \n",
       "1358                 18.0                  42.0  0.99549  3.39       0.66   \n",
       "\n",
       "      alcohol  quality  quality2  \n",
       "0         9.4        5         0  \n",
       "1         9.8        5         0  \n",
       "2         9.8        5         0  \n",
       "3         9.8        6         0  \n",
       "4         9.4        5         0  \n",
       "...       ...      ...       ...  \n",
       "1354      9.5        6         0  \n",
       "1355     10.5        5         0  \n",
       "1356     11.2        6         0  \n",
       "1357     10.2        5         0  \n",
       "1358     11.0        6         0  \n",
       "\n",
       "[1359 rows x 13 columns]"
      ]
     },
     "execution_count": 24,
     "metadata": {},
     "output_type": "execute_result"
    }
   ],
   "source": [
    "#to convert catagorical values in the quality2 in to numbers\n",
    "le = LabelEncoder()\n",
    "wine['quality2']=le.fit_transform(wine['quality2'])\n",
    "wine"
   ]
  },
  {
   "cell_type": "code",
   "execution_count": 25,
   "id": "01303c26",
   "metadata": {},
   "outputs": [
    {
     "data": {
      "text/plain": [
       "[Text(0.5, 1.0, 'HISTOGRAM OF WINE QUALITY'),\n",
       " Text(0.5, 0, 'quality'),\n",
       " Text(0, 0.5, 'count')]"
      ]
     },
     "execution_count": 25,
     "metadata": {},
     "output_type": "execute_result"
    },
    {
     "data": {
      "image/png": "[encoded data removed]",
      "text/plain": [
       "<Figure size 432x288 with 1 Axes>"
      ]
     },
     "metadata": {
      "needs_background": "light"
     },
     "output_type": "display_data"
    }
   ],
   "source": [
    "#to check value count of quality2\n",
    "plt = sns.countplot(x='quality2',data=wine)\n",
    "plt.set(title='HISTOGRAM OF WINE QUALITY',xlabel='quality',ylabel='count')"
   ]
  },
  {
   "cell_type": "markdown",
   "id": "8b2f9288",
   "metadata": {},
   "source": [
    "Visualization of correlation table."
   ]
  },
  {
   "cell_type": "code",
   "execution_count": 30,
   "id": "8148d67e",
   "metadata": {},
   "outputs": [
    {
     "data": {
      "text/html": [
       "<div>\n",
       "<style scoped>\n",
       "    .dataframe tbody tr th:only-of-type {\n",
       "        vertical-align: middle;\n",
       "    }\n",
       "\n",
       "    .dataframe tbody tr th {\n",
       "        vertical-align: top;\n",
       "    }\n",
       "\n",
       "    .dataframe thead th {\n",
       "        text-align: right;\n",
       "    }\n",
       "</style>\n",
       "<table border=\"1\" class=\"dataframe\">\n",
       "  <thead>\n",
       "    <tr style=\"text-align: right;\">\n",
       "      <th></th>\n",
       "      <th>fixed_acidity</th>\n",
       "      <th>volatile_acidity</th>\n",
       "      <th>citric_acid</th>\n",
       "      <th>residual_sugar</th>\n",
       "      <th>chlorides</th>\n",
       "      <th>free_sulfur_dioxide</th>\n",
       "      <th>total_sulfur_dioxide</th>\n",
       "      <th>density</th>\n",
       "      <th>pH</th>\n",
       "      <th>sulphates</th>\n",
       "      <th>alcohol</th>\n",
       "      <th>quality</th>\n",
       "      <th>quality2</th>\n",
       "    </tr>\n",
       "  </thead>\n",
       "  <tbody>\n",
       "    <tr>\n",
       "      <th>fixed_acidity</th>\n",
       "      <td>1.000000</td>\n",
       "      <td>-0.255124</td>\n",
       "      <td>0.667437</td>\n",
       "      <td>0.111025</td>\n",
       "      <td>0.085886</td>\n",
       "      <td>-0.140580</td>\n",
       "      <td>-0.103777</td>\n",
       "      <td>0.670195</td>\n",
       "      <td>-0.686685</td>\n",
       "      <td>0.190269</td>\n",
       "      <td>-0.061596</td>\n",
       "      <td>0.119024</td>\n",
       "      <td>0.116120</td>\n",
       "    </tr>\n",
       "    <tr>\n",
       "      <th>volatile_acidity</th>\n",
       "      <td>-0.255124</td>\n",
       "      <td>1.000000</td>\n",
       "      <td>-0.551248</td>\n",
       "      <td>-0.002449</td>\n",
       "      <td>0.055154</td>\n",
       "      <td>-0.020945</td>\n",
       "      <td>0.071701</td>\n",
       "      <td>0.023943</td>\n",
       "      <td>0.247111</td>\n",
       "      <td>-0.256948</td>\n",
       "      <td>-0.197812</td>\n",
       "      <td>-0.395214</td>\n",
       "      <td>-0.267344</td>\n",
       "    </tr>\n",
       "    <tr>\n",
       "      <th>citric_acid</th>\n",
       "      <td>0.667437</td>\n",
       "      <td>-0.551248</td>\n",
       "      <td>1.000000</td>\n",
       "      <td>0.143892</td>\n",
       "      <td>0.210195</td>\n",
       "      <td>-0.048004</td>\n",
       "      <td>0.047358</td>\n",
       "      <td>0.357962</td>\n",
       "      <td>-0.550310</td>\n",
       "      <td>0.326062</td>\n",
       "      <td>0.105108</td>\n",
       "      <td>0.228057</td>\n",
       "      <td>0.203561</td>\n",
       "    </tr>\n",
       "    <tr>\n",
       "      <th>residual_sugar</th>\n",
       "      <td>0.111025</td>\n",
       "      <td>-0.002449</td>\n",
       "      <td>0.143892</td>\n",
       "      <td>1.000000</td>\n",
       "      <td>0.026656</td>\n",
       "      <td>0.160527</td>\n",
       "      <td>0.201038</td>\n",
       "      <td>0.324522</td>\n",
       "      <td>-0.083143</td>\n",
       "      <td>-0.011837</td>\n",
       "      <td>0.063281</td>\n",
       "      <td>0.013640</td>\n",
       "      <td>0.052811</td>\n",
       "    </tr>\n",
       "    <tr>\n",
       "      <th>chlorides</th>\n",
       "      <td>0.085886</td>\n",
       "      <td>0.055154</td>\n",
       "      <td>0.210195</td>\n",
       "      <td>0.026656</td>\n",
       "      <td>1.000000</td>\n",
       "      <td>0.000749</td>\n",
       "      <td>0.045773</td>\n",
       "      <td>0.193592</td>\n",
       "      <td>-0.270893</td>\n",
       "      <td>0.394557</td>\n",
       "      <td>-0.223824</td>\n",
       "      <td>-0.130988</td>\n",
       "      <td>-0.096806</td>\n",
       "    </tr>\n",
       "    <tr>\n",
       "      <th>free_sulfur_dioxide</th>\n",
       "      <td>-0.140580</td>\n",
       "      <td>-0.020945</td>\n",
       "      <td>-0.048004</td>\n",
       "      <td>0.160527</td>\n",
       "      <td>0.000749</td>\n",
       "      <td>1.000000</td>\n",
       "      <td>0.667246</td>\n",
       "      <td>-0.018071</td>\n",
       "      <td>0.056631</td>\n",
       "      <td>0.054126</td>\n",
       "      <td>-0.080125</td>\n",
       "      <td>-0.050463</td>\n",
       "      <td>-0.072771</td>\n",
       "    </tr>\n",
       "    <tr>\n",
       "      <th>total_sulfur_dioxide</th>\n",
       "      <td>-0.103777</td>\n",
       "      <td>0.071701</td>\n",
       "      <td>0.047358</td>\n",
       "      <td>0.201038</td>\n",
       "      <td>0.045773</td>\n",
       "      <td>0.667246</td>\n",
       "      <td>1.000000</td>\n",
       "      <td>0.078141</td>\n",
       "      <td>-0.079257</td>\n",
       "      <td>0.035291</td>\n",
       "      <td>-0.217829</td>\n",
       "      <td>-0.177855</td>\n",
       "      <td>-0.135877</td>\n",
       "    </tr>\n",
       "    <tr>\n",
       "      <th>density</th>\n",
       "      <td>0.670195</td>\n",
       "      <td>0.023943</td>\n",
       "      <td>0.357962</td>\n",
       "      <td>0.324522</td>\n",
       "      <td>0.193592</td>\n",
       "      <td>-0.018071</td>\n",
       "      <td>0.078141</td>\n",
       "      <td>1.000000</td>\n",
       "      <td>-0.355617</td>\n",
       "      <td>0.146036</td>\n",
       "      <td>-0.504995</td>\n",
       "      <td>-0.184252</td>\n",
       "      <td>-0.158052</td>\n",
       "    </tr>\n",
       "    <tr>\n",
       "      <th>pH</th>\n",
       "      <td>-0.686685</td>\n",
       "      <td>0.247111</td>\n",
       "      <td>-0.550310</td>\n",
       "      <td>-0.083143</td>\n",
       "      <td>-0.270893</td>\n",
       "      <td>0.056631</td>\n",
       "      <td>-0.079257</td>\n",
       "      <td>-0.355617</td>\n",
       "      <td>1.000000</td>\n",
       "      <td>-0.214134</td>\n",
       "      <td>0.213418</td>\n",
       "      <td>-0.055245</td>\n",
       "      <td>-0.054131</td>\n",
       "    </tr>\n",
       "    <tr>\n",
       "      <th>sulphates</th>\n",
       "      <td>0.190269</td>\n",
       "      <td>-0.256948</td>\n",
       "      <td>0.326062</td>\n",
       "      <td>-0.011837</td>\n",
       "      <td>0.394557</td>\n",
       "      <td>0.054126</td>\n",
       "      <td>0.035291</td>\n",
       "      <td>0.146036</td>\n",
       "      <td>-0.214134</td>\n",
       "      <td>1.000000</td>\n",
       "      <td>0.091621</td>\n",
       "      <td>0.248835</td>\n",
       "      <td>0.201551</td>\n",
       "    </tr>\n",
       "    <tr>\n",
       "      <th>alcohol</th>\n",
       "      <td>-0.061596</td>\n",
       "      <td>-0.197812</td>\n",
       "      <td>0.105108</td>\n",
       "      <td>0.063281</td>\n",
       "      <td>-0.223824</td>\n",
       "      <td>-0.080125</td>\n",
       "      <td>-0.217829</td>\n",
       "      <td>-0.504995</td>\n",
       "      <td>0.213418</td>\n",
       "      <td>0.091621</td>\n",
       "      <td>1.000000</td>\n",
       "      <td>0.480343</td>\n",
       "      <td>0.409926</td>\n",
       "    </tr>\n",
       "    <tr>\n",
       "      <th>quality</th>\n",
       "      <td>0.119024</td>\n",
       "      <td>-0.395214</td>\n",
       "      <td>0.228057</td>\n",
       "      <td>0.013640</td>\n",
       "      <td>-0.130988</td>\n",
       "      <td>-0.050463</td>\n",
       "      <td>-0.177855</td>\n",
       "      <td>-0.184252</td>\n",
       "      <td>-0.055245</td>\n",
       "      <td>0.248835</td>\n",
       "      <td>0.480343</td>\n",
       "      <td>1.000000</td>\n",
       "      <td>0.706168</td>\n",
       "    </tr>\n",
       "    <tr>\n",
       "      <th>quality2</th>\n",
       "      <td>0.116120</td>\n",
       "      <td>-0.267344</td>\n",
       "      <td>0.203561</td>\n",
       "      <td>0.052811</td>\n",
       "      <td>-0.096806</td>\n",
       "      <td>-0.072771</td>\n",
       "      <td>-0.135877</td>\n",
       "      <td>-0.158052</td>\n",
       "      <td>-0.054131</td>\n",
       "      <td>0.201551</td>\n",
       "      <td>0.409926</td>\n",
       "      <td>0.706168</td>\n",
       "      <td>1.000000</td>\n",
       "    </tr>\n",
       "  </tbody>\n",
       "</table>\n",
       "</div>"
      ],
      "text/plain": [
       "                      fixed_acidity  volatile_acidity  citric_acid  \\\n",
       "fixed_acidity              1.000000         -0.255124     0.667437   \n",
       "volatile_acidity          -0.255124          1.000000    -0.551248   \n",
       "citric_acid                0.667437         -0.551248     1.000000   \n",
       "residual_sugar             0.111025         -0.002449     0.143892   \n",
       "chlorides                  0.085886          0.055154     0.210195   \n",
       "free_sulfur_dioxide       -0.140580         -0.020945    -0.048004   \n",
       "total_sulfur_dioxide      -0.103777          0.071701     0.047358   \n",
       "density                    0.670195          0.023943     0.357962   \n",
       "pH                        -0.686685          0.247111    -0.550310   \n",
       "sulphates                  0.190269         -0.256948     0.326062   \n",
       "alcohol                   -0.061596         -0.197812     0.105108   \n",
       "quality                    0.119024         -0.395214     0.228057   \n",
       "quality2                   0.116120         -0.267344     0.203561   \n",
       "\n",
       "                      residual_sugar  chlorides  free_sulfur_dioxide  \\\n",
       "fixed_acidity               0.111025   0.085886            -0.140580   \n",
       "volatile_acidity           -0.002449   0.055154            -0.020945   \n",
       "citric_acid                 0.143892   0.210195            -0.048004   \n",
       "residual_sugar              1.000000   0.026656             0.160527   \n",
       "chlorides                   0.026656   1.000000             0.000749   \n",
       "free_sulfur_dioxide         0.160527   0.000749             1.000000   \n",
       "total_sulfur_dioxide        0.201038   0.045773             0.667246   \n",
       "density                     0.324522   0.193592            -0.018071   \n",
       "pH                         -0.083143  -0.270893             0.056631   \n",
       "sulphates                  -0.011837   0.394557             0.054126   \n",
       "alcohol                     0.063281  -0.223824            -0.080125   \n",
       "quality                     0.013640  -0.130988            -0.050463   \n",
       "quality2                    0.052811  -0.096806            -0.072771   \n",
       "\n",
       "                      total_sulfur_dioxide   density        pH  sulphates  \\\n",
       "fixed_acidity                    -0.103777  0.670195 -0.686685   0.190269   \n",
       "volatile_acidity                  0.071701  0.023943  0.247111  -0.256948   \n",
       "citric_acid                       0.047358  0.357962 -0.550310   0.326062   \n",
       "residual_sugar                    0.201038  0.324522 -0.083143  -0.011837   \n",
       "chlorides                         0.045773  0.193592 -0.270893   0.394557   \n",
       "free_sulfur_dioxide               0.667246 -0.018071  0.056631   0.054126   \n",
       "total_sulfur_dioxide              1.000000  0.078141 -0.079257   0.035291   \n",
       "density                           0.078141  1.000000 -0.355617   0.146036   \n",
       "pH                               -0.079257 -0.355617  1.000000  -0.214134   \n",
       "sulphates                         0.035291  0.146036 -0.214134   1.000000   \n",
       "alcohol                          -0.217829 -0.504995  0.213418   0.091621   \n",
       "quality                          -0.177855 -0.184252 -0.055245   0.248835   \n",
       "quality2                         -0.135877 -0.158052 -0.054131   0.201551   \n",
       "\n",
       "                       alcohol   quality  quality2  \n",
       "fixed_acidity        -0.061596  0.119024  0.116120  \n",
       "volatile_acidity     -0.197812 -0.395214 -0.267344  \n",
       "citric_acid           0.105108  0.228057  0.203561  \n",
       "residual_sugar        0.063281  0.013640  0.052811  \n",
       "chlorides            -0.223824 -0.130988 -0.096806  \n",
       "free_sulfur_dioxide  -0.080125 -0.050463 -0.072771  \n",
       "total_sulfur_dioxide -0.217829 -0.177855 -0.135877  \n",
       "density              -0.504995 -0.184252 -0.158052  \n",
       "pH                    0.213418 -0.055245 -0.054131  \n",
       "sulphates             0.091621  0.248835  0.201551  \n",
       "alcohol               1.000000  0.480343  0.409926  \n",
       "quality               0.480343  1.000000  0.706168  \n",
       "quality2              0.409926  0.706168  1.000000  "
      ]
     },
     "execution_count": 30,
     "metadata": {},
     "output_type": "execute_result"
    }
   ],
   "source": [
    "wine.corr()"
   ]
  },
  {
   "cell_type": "markdown",
   "id": "c182a436",
   "metadata": {},
   "source": [
    "Data cleaning"
   ]
  },
  {
   "cell_type": "code",
   "execution_count": 31,
   "id": "27c42d86",
   "metadata": {},
   "outputs": [],
   "source": [
    "# to drop quality column as it is converted in to quality2\n",
    "# to save the dataframe in 'x'\n",
    "x = wine.drop (['quality'], axis = 1)"
   ]
  },
  {
   "cell_type": "code",
   "execution_count": 32,
   "id": "b09ad730",
   "metadata": {},
   "outputs": [
    {
     "data": {
      "text/plain": [
       "0    1175\n",
       "1     184\n",
       "Name: quality2, dtype: int64"
      ]
     },
     "execution_count": 32,
     "metadata": {},
     "output_type": "execute_result"
    }
   ],
   "source": [
    "x['quality2'].value_counts()"
   ]
  },
  {
   "cell_type": "code",
   "execution_count": 33,
   "id": "b2eca53e",
   "metadata": {},
   "outputs": [
    {
     "data": {
      "text/plain": [
       "Index(['fixed_acidity', 'volatile_acidity', 'citric_acid', 'residual_sugar',\n",
       "       'chlorides', 'free_sulfur_dioxide', 'total_sulfur_dioxide', 'density',\n",
       "       'pH', 'sulphates', 'alcohol', 'quality2'],\n",
       "      dtype='object')"
      ]
     },
     "execution_count": 33,
     "metadata": {},
     "output_type": "execute_result"
    }
   ],
   "source": [
    "x.columns"
   ]
  },
  {
   "cell_type": "code",
   "execution_count": 34,
   "id": "3784724f",
   "metadata": {},
   "outputs": [
    {
     "data": {
      "text/html": [
       "<div>\n",
       "<style scoped>\n",
       "    .dataframe tbody tr th:only-of-type {\n",
       "        vertical-align: middle;\n",
       "    }\n",
       "\n",
       "    .dataframe tbody tr th {\n",
       "        vertical-align: top;\n",
       "    }\n",
       "\n",
       "    .dataframe thead th {\n",
       "        text-align: right;\n",
       "    }\n",
       "</style>\n",
       "<table border=\"1\" class=\"dataframe\">\n",
       "  <thead>\n",
       "    <tr style=\"text-align: right;\">\n",
       "      <th></th>\n",
       "      <th>fixed_acidity</th>\n",
       "      <th>volatile_acidity</th>\n",
       "      <th>citric_acid</th>\n",
       "      <th>residual_sugar</th>\n",
       "      <th>chlorides</th>\n",
       "      <th>free_sulfur_dioxide</th>\n",
       "      <th>total_sulfur_dioxide</th>\n",
       "      <th>density</th>\n",
       "      <th>pH</th>\n",
       "      <th>sulphates</th>\n",
       "      <th>alcohol</th>\n",
       "      <th>quality2</th>\n",
       "    </tr>\n",
       "  </thead>\n",
       "  <tbody>\n",
       "    <tr>\n",
       "      <th>0</th>\n",
       "      <td>7.4</td>\n",
       "      <td>0.70</td>\n",
       "      <td>0.00</td>\n",
       "      <td>1.9</td>\n",
       "      <td>0.076</td>\n",
       "      <td>11.0</td>\n",
       "      <td>34.0</td>\n",
       "      <td>0.9978</td>\n",
       "      <td>3.51</td>\n",
       "      <td>0.56</td>\n",
       "      <td>9.4</td>\n",
       "      <td>0</td>\n",
       "    </tr>\n",
       "    <tr>\n",
       "      <th>1</th>\n",
       "      <td>7.8</td>\n",
       "      <td>0.88</td>\n",
       "      <td>0.00</td>\n",
       "      <td>2.6</td>\n",
       "      <td>0.098</td>\n",
       "      <td>25.0</td>\n",
       "      <td>67.0</td>\n",
       "      <td>0.9968</td>\n",
       "      <td>3.20</td>\n",
       "      <td>0.68</td>\n",
       "      <td>9.8</td>\n",
       "      <td>0</td>\n",
       "    </tr>\n",
       "    <tr>\n",
       "      <th>2</th>\n",
       "      <td>7.8</td>\n",
       "      <td>0.76</td>\n",
       "      <td>0.04</td>\n",
       "      <td>2.3</td>\n",
       "      <td>0.092</td>\n",
       "      <td>15.0</td>\n",
       "      <td>54.0</td>\n",
       "      <td>0.9970</td>\n",
       "      <td>3.26</td>\n",
       "      <td>0.65</td>\n",
       "      <td>9.8</td>\n",
       "      <td>0</td>\n",
       "    </tr>\n",
       "    <tr>\n",
       "      <th>3</th>\n",
       "      <td>11.2</td>\n",
       "      <td>0.28</td>\n",
       "      <td>0.56</td>\n",
       "      <td>1.9</td>\n",
       "      <td>0.075</td>\n",
       "      <td>17.0</td>\n",
       "      <td>60.0</td>\n",
       "      <td>0.9980</td>\n",
       "      <td>3.16</td>\n",
       "      <td>0.58</td>\n",
       "      <td>9.8</td>\n",
       "      <td>0</td>\n",
       "    </tr>\n",
       "    <tr>\n",
       "      <th>4</th>\n",
       "      <td>7.4</td>\n",
       "      <td>0.66</td>\n",
       "      <td>0.00</td>\n",
       "      <td>1.8</td>\n",
       "      <td>0.075</td>\n",
       "      <td>13.0</td>\n",
       "      <td>40.0</td>\n",
       "      <td>0.9978</td>\n",
       "      <td>3.51</td>\n",
       "      <td>0.56</td>\n",
       "      <td>9.4</td>\n",
       "      <td>0</td>\n",
       "    </tr>\n",
       "  </tbody>\n",
       "</table>\n",
       "</div>"
      ],
      "text/plain": [
       "   fixed_acidity  volatile_acidity  citric_acid  residual_sugar  chlorides  \\\n",
       "0            7.4              0.70         0.00             1.9      0.076   \n",
       "1            7.8              0.88         0.00             2.6      0.098   \n",
       "2            7.8              0.76         0.04             2.3      0.092   \n",
       "3           11.2              0.28         0.56             1.9      0.075   \n",
       "4            7.4              0.66         0.00             1.8      0.075   \n",
       "\n",
       "   free_sulfur_dioxide  total_sulfur_dioxide  density    pH  sulphates  \\\n",
       "0                 11.0                  34.0   0.9978  3.51       0.56   \n",
       "1                 25.0                  67.0   0.9968  3.20       0.68   \n",
       "2                 15.0                  54.0   0.9970  3.26       0.65   \n",
       "3                 17.0                  60.0   0.9980  3.16       0.58   \n",
       "4                 13.0                  40.0   0.9978  3.51       0.56   \n",
       "\n",
       "   alcohol  quality2  \n",
       "0      9.4         0  \n",
       "1      9.8         0  \n",
       "2      9.8         0  \n",
       "3      9.8         0  \n",
       "4      9.4         0  "
      ]
     },
     "execution_count": 34,
     "metadata": {},
     "output_type": "execute_result"
    }
   ],
   "source": [
    "x.head()"
   ]
  },
  {
   "cell_type": "code",
   "execution_count": 36,
   "id": "e01e8f94",
   "metadata": {},
   "outputs": [
    {
     "data": {
      "text/plain": [
       "fixed_acidity           0.941041\n",
       "volatile_acidity        0.729279\n",
       "citric_acid             0.312726\n",
       "residual_sugar          4.548153\n",
       "chlorides               5.502487\n",
       "free_sulfur_dioxide     1.226579\n",
       "total_sulfur_dioxide    1.540368\n",
       "density                 0.044778\n",
       "pH                      0.232032\n",
       "sulphates               2.406505\n",
       "alcohol                 0.859841\n",
       "quality2                2.133662\n",
       "dtype: float64"
      ]
     },
     "execution_count": 36,
     "metadata": {},
     "output_type": "execute_result"
    }
   ],
   "source": [
    "#to check the skewness in the dataset\n",
    "x.skew()"
   ]
  },
  {
   "cell_type": "code",
   "execution_count": 37,
   "id": "2cb14a54",
   "metadata": {},
   "outputs": [],
   "source": [
    "#to remove the skewness in the dataset\n",
    "from sklearn.preprocessing import power_transform\n",
    "x_new = power_transform(x)"
   ]
  },
  {
   "cell_type": "code",
   "execution_count": 38,
   "id": "7bfc75f5",
   "metadata": {},
   "outputs": [
    {
     "data": {
      "text/html": [
       "<div>\n",
       "<style scoped>\n",
       "    .dataframe tbody tr th:only-of-type {\n",
       "        vertical-align: middle;\n",
       "    }\n",
       "\n",
       "    .dataframe tbody tr th {\n",
       "        vertical-align: top;\n",
       "    }\n",
       "\n",
       "    .dataframe thead th {\n",
       "        text-align: right;\n",
       "    }\n",
       "</style>\n",
       "<table border=\"1\" class=\"dataframe\">\n",
       "  <thead>\n",
       "    <tr style=\"text-align: right;\">\n",
       "      <th></th>\n",
       "      <th>fixed_acidity</th>\n",
       "      <th>volatile_acidity</th>\n",
       "      <th>citric_acid</th>\n",
       "      <th>residual_sugar</th>\n",
       "      <th>chlorides</th>\n",
       "      <th>free_sulfur_dioxide</th>\n",
       "      <th>total_sulfur_dioxide</th>\n",
       "      <th>density</th>\n",
       "      <th>pH</th>\n",
       "      <th>sulphates</th>\n",
       "      <th>alcohol</th>\n",
       "      <th>quality2</th>\n",
       "    </tr>\n",
       "  </thead>\n",
       "  <tbody>\n",
       "    <tr>\n",
       "      <th>0</th>\n",
       "      <td>-0.439412</td>\n",
       "      <td>0.978091</td>\n",
       "      <td>-1.530544</td>\n",
       "      <td>-0.602600</td>\n",
       "      <td>-0.166676</td>\n",
       "      <td>-0.269573</td>\n",
       "      <td>-0.128948</td>\n",
       "      <td>0.587781</td>\n",
       "      <td>1.277041</td>\n",
       "      <td>-0.582775</td>\n",
       "      <td>-1.068157</td>\n",
       "      <td>-0.395722</td>\n",
       "    </tr>\n",
       "    <tr>\n",
       "      <th>1</th>\n",
       "      <td>-0.161475</td>\n",
       "      <td>1.720040</td>\n",
       "      <td>-1.530544</td>\n",
       "      <td>0.560720</td>\n",
       "      <td>0.778512</td>\n",
       "      <td>0.992495</td>\n",
       "      <td>0.841796</td>\n",
       "      <td>0.054350</td>\n",
       "      <td>-0.695907</td>\n",
       "      <td>0.400130</td>\n",
       "      <td>-0.499290</td>\n",
       "      <td>-0.395722</td>\n",
       "    </tr>\n",
       "    <tr>\n",
       "      <th>2</th>\n",
       "      <td>-0.161475</td>\n",
       "      <td>1.242047</td>\n",
       "      <td>-1.256962</td>\n",
       "      <td>0.153076</td>\n",
       "      <td>0.557116</td>\n",
       "      <td>0.192377</td>\n",
       "      <td>0.530012</td>\n",
       "      <td>0.161294</td>\n",
       "      <td>-0.296058</td>\n",
       "      <td>0.188379</td>\n",
       "      <td>-0.499290</td>\n",
       "      <td>-0.395722</td>\n",
       "    </tr>\n",
       "    <tr>\n",
       "      <th>3</th>\n",
       "      <td>1.529010</td>\n",
       "      <td>-1.551503</td>\n",
       "      <td>1.389613</td>\n",
       "      <td>-0.602600</td>\n",
       "      <td>-0.219369</td>\n",
       "      <td>0.384096</td>\n",
       "      <td>0.681966</td>\n",
       "      <td>0.694083</td>\n",
       "      <td>-0.967619</td>\n",
       "      <td>-0.391438</td>\n",
       "      <td>-0.499290</td>\n",
       "      <td>-0.395722</td>\n",
       "    </tr>\n",
       "    <tr>\n",
       "      <th>4</th>\n",
       "      <td>-0.439412</td>\n",
       "      <td>0.791661</td>\n",
       "      <td>-1.530544</td>\n",
       "      <td>-0.844564</td>\n",
       "      <td>-0.219369</td>\n",
       "      <td>-0.023152</td>\n",
       "      <td>0.100926</td>\n",
       "      <td>0.587781</td>\n",
       "      <td>1.277041</td>\n",
       "      <td>-0.582775</td>\n",
       "      <td>-1.068157</td>\n",
       "      <td>-0.395722</td>\n",
       "    </tr>\n",
       "    <tr>\n",
       "      <th>...</th>\n",
       "      <td>...</td>\n",
       "      <td>...</td>\n",
       "      <td>...</td>\n",
       "      <td>...</td>\n",
       "      <td>...</td>\n",
       "      <td>...</td>\n",
       "      <td>...</td>\n",
       "      <td>...</td>\n",
       "      <td>...</td>\n",
       "      <td>...</td>\n",
       "      <td>...</td>\n",
       "      <td>...</td>\n",
       "    </tr>\n",
       "    <tr>\n",
       "      <th>1354</th>\n",
       "      <td>-0.903672</td>\n",
       "      <td>0.596149</td>\n",
       "      <td>-0.996743</td>\n",
       "      <td>-0.602600</td>\n",
       "      <td>-0.616834</td>\n",
       "      <td>1.176074</td>\n",
       "      <td>0.028175</td>\n",
       "      <td>-0.100946</td>\n",
       "      <td>0.727244</td>\n",
       "      <td>1.169880</td>\n",
       "      <td>-0.916248</td>\n",
       "      <td>-0.395722</td>\n",
       "    </tr>\n",
       "    <tr>\n",
       "      <th>1355</th>\n",
       "      <td>-1.436385</td>\n",
       "      <td>0.494776</td>\n",
       "      <td>-0.996743</td>\n",
       "      <td>-0.384706</td>\n",
       "      <td>0.477791</td>\n",
       "      <td>1.395040</td>\n",
       "      <td>0.236575</td>\n",
       "      <td>-0.968055</td>\n",
       "      <td>0.912498</td>\n",
       "      <td>-0.391438</td>\n",
       "      <td>0.286561</td>\n",
       "      <td>-0.395722</td>\n",
       "    </tr>\n",
       "    <tr>\n",
       "      <th>1356</th>\n",
       "      <td>-1.733557</td>\n",
       "      <td>0.230050</td>\n",
       "      <td>-0.871292</td>\n",
       "      <td>-0.009276</td>\n",
       "      <td>-1.001198</td>\n",
       "      <td>1.724577</td>\n",
       "      <td>0.447853</td>\n",
       "      <td>-0.849072</td>\n",
       "      <td>1.337040</td>\n",
       "      <td>0.878488</td>\n",
       "      <td>0.875408</td>\n",
       "      <td>-0.395722</td>\n",
       "    </tr>\n",
       "    <tr>\n",
       "      <th>1357</th>\n",
       "      <td>-1.733557</td>\n",
       "      <td>0.719444</td>\n",
       "      <td>-0.748774</td>\n",
       "      <td>-0.384706</td>\n",
       "      <td>-0.219369</td>\n",
       "      <td>1.395040</td>\n",
       "      <td>0.236575</td>\n",
       "      <td>-0.660104</td>\n",
       "      <td>1.633860</td>\n",
       "      <td>0.593171</td>\n",
       "      <td>-0.021928</td>\n",
       "      <td>-0.395722</td>\n",
       "    </tr>\n",
       "    <tr>\n",
       "      <th>1358</th>\n",
       "      <td>-1.631976</td>\n",
       "      <td>-1.317784</td>\n",
       "      <td>1.021677</td>\n",
       "      <td>1.386960</td>\n",
       "      <td>-0.677948</td>\n",
       "      <td>0.472612</td>\n",
       "      <td>0.170291</td>\n",
       "      <td>-0.649318</td>\n",
       "      <td>0.539956</td>\n",
       "      <td>0.261172</td>\n",
       "      <td>0.723544</td>\n",
       "      <td>-0.395722</td>\n",
       "    </tr>\n",
       "  </tbody>\n",
       "</table>\n",
       "<p>1359 rows × 12 columns</p>\n",
       "</div>"
      ],
      "text/plain": [
       "      fixed_acidity  volatile_acidity  citric_acid  residual_sugar  chlorides  \\\n",
       "0         -0.439412          0.978091    -1.530544       -0.602600  -0.166676   \n",
       "1         -0.161475          1.720040    -1.530544        0.560720   0.778512   \n",
       "2         -0.161475          1.242047    -1.256962        0.153076   0.557116   \n",
       "3          1.529010         -1.551503     1.389613       -0.602600  -0.219369   \n",
       "4         -0.439412          0.791661    -1.530544       -0.844564  -0.219369   \n",
       "...             ...               ...          ...             ...        ...   \n",
       "1354      -0.903672          0.596149    -0.996743       -0.602600  -0.616834   \n",
       "1355      -1.436385          0.494776    -0.996743       -0.384706   0.477791   \n",
       "1356      -1.733557          0.230050    -0.871292       -0.009276  -1.001198   \n",
       "1357      -1.733557          0.719444    -0.748774       -0.384706  -0.219369   \n",
       "1358      -1.631976         -1.317784     1.021677        1.386960  -0.677948   \n",
       "\n",
       "      free_sulfur_dioxide  total_sulfur_dioxide   density        pH  \\\n",
       "0               -0.269573             -0.128948  0.587781  1.277041   \n",
       "1                0.992495              0.841796  0.054350 -0.695907   \n",
       "2                0.192377              0.530012  0.161294 -0.296058   \n",
       "3                0.384096              0.681966  0.694083 -0.967619   \n",
       "4               -0.023152              0.100926  0.587781  1.277041   \n",
       "...                   ...                   ...       ...       ...   \n",
       "1354             1.176074              0.028175 -0.100946  0.727244   \n",
       "1355             1.395040              0.236575 -0.968055  0.912498   \n",
       "1356             1.724577              0.447853 -0.849072  1.337040   \n",
       "1357             1.395040              0.236575 -0.660104  1.633860   \n",
       "1358             0.472612              0.170291 -0.649318  0.539956   \n",
       "\n",
       "      sulphates   alcohol  quality2  \n",
       "0     -0.582775 -1.068157 -0.395722  \n",
       "1      0.400130 -0.499290 -0.395722  \n",
       "2      0.188379 -0.499290 -0.395722  \n",
       "3     -0.391438 -0.499290 -0.395722  \n",
       "4     -0.582775 -1.068157 -0.395722  \n",
       "...         ...       ...       ...  \n",
       "1354   1.169880 -0.916248 -0.395722  \n",
       "1355  -0.391438  0.286561 -0.395722  \n",
       "1356   0.878488  0.875408 -0.395722  \n",
       "1357   0.593171 -0.021928 -0.395722  \n",
       "1358   0.261172  0.723544 -0.395722  \n",
       "\n",
       "[1359 rows x 12 columns]"
      ]
     },
     "execution_count": 38,
     "metadata": {},
     "output_type": "execute_result"
    }
   ],
   "source": [
    "#creating new dataset after removing skewness and saving it to 'x'\n",
    "x = pd.DataFrame(x_new , columns = x.columns)\n",
    "x"
   ]
  },
  {
   "cell_type": "code",
   "execution_count": 39,
   "id": "38516968",
   "metadata": {},
   "outputs": [
    {
     "data": {
      "text/plain": [
       "fixed_acidity           0.001884\n",
       "volatile_acidity        0.008311\n",
       "citric_acid             0.016563\n",
       "residual_sugar         -0.001715\n",
       "chlorides              -0.061923\n",
       "free_sulfur_dioxide    -0.009899\n",
       "total_sulfur_dioxide   -0.003897\n",
       "density                -0.002812\n",
       "pH                     -0.005007\n",
       "sulphates               0.014637\n",
       "alcohol                 0.116742\n",
       "quality2                2.133662\n",
       "dtype: float64"
      ]
     },
     "execution_count": 39,
     "metadata": {},
     "output_type": "execute_result"
    }
   ],
   "source": [
    "#to check the skewness in the dataset after applying power transformation\n",
    "x.skew()"
   ]
  },
  {
   "cell_type": "code",
   "execution_count": 40,
   "id": "cd973fe6",
   "metadata": {},
   "outputs": [
    {
     "data": {
      "text/plain": [
       "True"
      ]
     },
     "execution_count": 40,
     "metadata": {},
     "output_type": "execute_result"
    }
   ],
   "source": [
    "#to check if skweness is lying between -0.5 to 0.5\n",
    "x.skew()[np.abs(x.skew()) < 0.5].all()"
   ]
  },
  {
   "cell_type": "code",
   "execution_count": 41,
   "id": "4fe96116",
   "metadata": {},
   "outputs": [
    {
     "data": {
      "text/plain": [
       "1359"
      ]
     },
     "execution_count": 41,
     "metadata": {},
     "output_type": "execute_result"
    }
   ],
   "source": [
    "len(x)"
   ]
  },
  {
   "cell_type": "code",
   "execution_count": 42,
   "id": "ebd54a70",
   "metadata": {},
   "outputs": [
    {
     "data": {
      "text/plain": [
       "fixed_acidity              AxesSubplot(0.125,0.125;0.0545775x0.755)\n",
       "volatile_acidity        AxesSubplot(0.190493,0.125;0.0545775x0.755)\n",
       "citric_acid             AxesSubplot(0.255986,0.125;0.0545775x0.755)\n",
       "residual_sugar          AxesSubplot(0.321479,0.125;0.0545775x0.755)\n",
       "chlorides               AxesSubplot(0.386972,0.125;0.0545775x0.755)\n",
       "free_sulfur_dioxide     AxesSubplot(0.452465,0.125;0.0545775x0.755)\n",
       "total_sulfur_dioxide    AxesSubplot(0.517958,0.125;0.0545775x0.755)\n",
       "density                 AxesSubplot(0.583451,0.125;0.0545775x0.755)\n",
       "pH                      AxesSubplot(0.648944,0.125;0.0545775x0.755)\n",
       "sulphates               AxesSubplot(0.714437,0.125;0.0545775x0.755)\n",
       "alcohol                  AxesSubplot(0.77993,0.125;0.0545775x0.755)\n",
       "quality2                AxesSubplot(0.845423,0.125;0.0545775x0.755)\n",
       "dtype: object"
      ]
     },
     "execution_count": 42,
     "metadata": {},
     "output_type": "execute_result"
    },
    {
     "data": {
      "image/png": "[encoded data removed]",
      "text/plain": [
       "<Figure size 1440x720 with 12 Axes>"
      ]
     },
     "metadata": {
      "needs_background": "light"
     },
     "output_type": "display_data"
    }
   ],
   "source": [
    "# to find out outliers in the dataset\n",
    "x.plot(kind='box',subplots=True,figsize=(20,10))"
   ]
  },
  {
   "cell_type": "code",
   "execution_count": 43,
   "id": "ba94ee54",
   "metadata": {},
   "outputs": [
    {
     "data": {
      "text/plain": [
       "fixed_acidity           False\n",
       "volatile_acidity        False\n",
       "citric_acid              True\n",
       "residual_sugar          False\n",
       "chlorides               False\n",
       "free_sulfur_dioxide      True\n",
       "total_sulfur_dioxide    False\n",
       "density                 False\n",
       "pH                      False\n",
       "sulphates               False\n",
       "alcohol                 False\n",
       "quality2                 True\n",
       "dtype: bool"
      ]
     },
     "execution_count": 43,
     "metadata": {},
     "output_type": "execute_result"
    }
   ],
   "source": [
    "#to check for outliers through zscore \n",
    "from scipy.stats import zscore\n",
    "(np.abs(zscore(x)) < 3).all()"
   ]
  },
  {
   "cell_type": "code",
   "execution_count": 44,
   "id": "d1168dfe",
   "metadata": {},
   "outputs": [
    {
     "data": {
      "text/plain": [
       "(1359, 12)"
      ]
     },
     "execution_count": 44,
     "metadata": {},
     "output_type": "execute_result"
    }
   ],
   "source": [
    "#to remove outliers in data set through zscore\n",
    "z = np.abs(zscore(x))\n",
    "z.shape"
   ]
  },
  {
   "cell_type": "code",
   "execution_count": 45,
   "id": "40cba964",
   "metadata": {},
   "outputs": [
    {
     "name": "stdout",
     "output_type": "stream",
     "text": [
      "(array([   6,   41,   41,   87,   87,  114,  115,  135,  151,  175,  385,\n",
      "        410,  420,  450,  473,  473,  483,  485,  528,  534,  602,  602,\n",
      "        689,  722,  722,  764,  779,  810,  866,  866,  920,  948, 1081,\n",
      "       1082, 1097, 1106, 1121, 1121, 1125, 1125, 1161, 1165, 1216, 1250,\n",
      "       1333], dtype=int64), array([ 3,  0,  8,  0,  8,  1,  1,  8,  9,  3,  7,  3,  7, 10,  8, 10,  7,\n",
      "        7,  7,  8,  4,  8,  4,  4,  7,  7,  3,  1,  3,  7,  6,  7,  7,  7,\n",
      "        9,  1,  3,  8,  3,  8,  9,  3,  7,  7,  4], dtype=int64))\n"
     ]
    }
   ],
   "source": [
    "threshold = 3\n",
    "print(np.where(z>3))"
   ]
  },
  {
   "cell_type": "code",
   "execution_count": 46,
   "id": "77cc0a9d",
   "metadata": {},
   "outputs": [
    {
     "name": "stdout",
     "output_type": "stream",
     "text": [
      "(1359, 12)\n",
      "(1322, 12)\n"
     ]
    }
   ],
   "source": [
    "x_new = x[(z<3).all(axis=1)]\n",
    "print(x.shape)\n",
    "print(x_new.shape)"
   ]
  },
  {
   "cell_type": "code",
   "execution_count": 47,
   "id": "be9ba988",
   "metadata": {},
   "outputs": [
    {
     "name": "stdout",
     "output_type": "stream",
     "text": [
      "2.7225901398086827\n"
     ]
    }
   ],
   "source": [
    "#to find % loss in data\n",
    "loss = (1359-1322)/1359 * 100\n",
    "print(loss)"
   ]
  },
  {
   "cell_type": "code",
   "execution_count": 48,
   "id": "43901bd7",
   "metadata": {},
   "outputs": [
    {
     "data": {
      "text/plain": [
       "fixed_acidity              AxesSubplot(0.125,0.125;0.0545775x0.755)\n",
       "volatile_acidity        AxesSubplot(0.190493,0.125;0.0545775x0.755)\n",
       "citric_acid             AxesSubplot(0.255986,0.125;0.0545775x0.755)\n",
       "residual_sugar          AxesSubplot(0.321479,0.125;0.0545775x0.755)\n",
       "chlorides               AxesSubplot(0.386972,0.125;0.0545775x0.755)\n",
       "free_sulfur_dioxide     AxesSubplot(0.452465,0.125;0.0545775x0.755)\n",
       "total_sulfur_dioxide    AxesSubplot(0.517958,0.125;0.0545775x0.755)\n",
       "density                 AxesSubplot(0.583451,0.125;0.0545775x0.755)\n",
       "pH                      AxesSubplot(0.648944,0.125;0.0545775x0.755)\n",
       "sulphates               AxesSubplot(0.714437,0.125;0.0545775x0.755)\n",
       "alcohol                  AxesSubplot(0.77993,0.125;0.0545775x0.755)\n",
       "quality2                AxesSubplot(0.845423,0.125;0.0545775x0.755)\n",
       "dtype: object"
      ]
     },
     "execution_count": 48,
     "metadata": {},
     "output_type": "execute_result"
    },
    {
     "data": {
      "image/png": "[encoded data removed]",
      "text/plain": [
       "<Figure size 1440x720 with 12 Axes>"
      ]
     },
     "metadata": {
      "needs_background": "light"
     },
     "output_type": "display_data"
    }
   ],
   "source": [
    "# visualization for outliers after using zscore\n",
    "x_new.plot(kind='box',subplots=True,figsize=(20,10))"
   ]
  },
  {
   "cell_type": "code",
   "execution_count": 49,
   "id": "2f1b6278",
   "metadata": {},
   "outputs": [],
   "source": [
    "#seperate feature variable and target variable\n",
    "x = x_new.drop (['quality2'], axis = 1)\n",
    "y = x_new['quality2']"
   ]
  },
  {
   "cell_type": "code",
   "execution_count": 50,
   "id": "1deec038",
   "metadata": {},
   "outputs": [
    {
     "data": {
      "text/plain": [
       "Index(['fixed_acidity', 'volatile_acidity', 'citric_acid', 'residual_sugar',\n",
       "       'chlorides', 'free_sulfur_dioxide', 'total_sulfur_dioxide', 'density',\n",
       "       'pH', 'sulphates', 'alcohol'],\n",
       "      dtype='object')"
      ]
     },
     "execution_count": 50,
     "metadata": {},
     "output_type": "execute_result"
    }
   ],
   "source": [
    "x.columns"
   ]
  },
  {
   "cell_type": "code",
   "execution_count": 51,
   "id": "d48435f0",
   "metadata": {},
   "outputs": [
    {
     "data": {
      "text/plain": [
       "0      -0.395722\n",
       "1      -0.395722\n",
       "2      -0.395722\n",
       "3      -0.395722\n",
       "4      -0.395722\n",
       "          ...   \n",
       "1354   -0.395722\n",
       "1355   -0.395722\n",
       "1356   -0.395722\n",
       "1357   -0.395722\n",
       "1358   -0.395722\n",
       "Name: quality2, Length: 1322, dtype: float64"
      ]
     },
     "execution_count": 51,
     "metadata": {},
     "output_type": "execute_result"
    }
   ],
   "source": [
    "y"
   ]
  },
  {
   "cell_type": "code",
   "execution_count": 52,
   "id": "270262a8",
   "metadata": {},
   "outputs": [
    {
     "data": {
      "text/plain": [
       "array([0, 0, 0, ..., 0, 0, 0], dtype=int64)"
      ]
     },
     "execution_count": 52,
     "metadata": {},
     "output_type": "execute_result"
    }
   ],
   "source": [
    "#to convert y in to integer\n",
    "le = LabelEncoder()\n",
    "y=le.fit_transform(y)\n",
    "y"
   ]
  },
  {
   "cell_type": "markdown",
   "id": "c46ae749",
   "metadata": {},
   "source": [
    "Model making"
   ]
  },
  {
   "cell_type": "code",
   "execution_count": 53,
   "id": "ccc172a9",
   "metadata": {},
   "outputs": [
    {
     "name": "stdout",
     "output_type": "stream",
     "text": [
      "Best accuracy is 0.9320754716981132 on Random_State 587\n"
     ]
    }
   ],
   "source": [
    "# to predict best random state value\n",
    "maxAcc =0\n",
    "maxRS=0\n",
    "\n",
    "for i in range(1,1322):\n",
    "    x_train,x_test,y_train,y_test = train_test_split(x,y,test_size=0.20,random_state=i)\n",
    "    LR = LogisticRegression()\n",
    "    LR.fit(x_train,y_train)\n",
    "    predrf = LR.predict(x_test)\n",
    "    acc=accuracy_score(y_test,predrf)\n",
    "    if acc>maxAcc:\n",
    "        maxAcc=acc\n",
    "        maxRS=i\n",
    "print('Best accuracy is',maxAcc,'on Random_State',maxRS)"
   ]
  },
  {
   "cell_type": "code",
   "execution_count": 54,
   "id": "e86f1775",
   "metadata": {},
   "outputs": [],
   "source": [
    "#spliting dataset into training(80%) and testing(20%)\n",
    "x_train,x_test,y_train,y_test = train_test_split(x,y,test_size=0.20,random_state=587)"
   ]
  },
  {
   "cell_type": "code",
   "execution_count": 55,
   "id": "41b1af2b",
   "metadata": {},
   "outputs": [
    {
     "name": "stdout",
     "output_type": "stream",
     "text": [
      "shape of x_train: (1057, 11)\n",
      "shape of y_train: (1057, 11)\n",
      "shape of x_test: (265, 11)\n",
      "shape of y_test: (265,)\n"
     ]
    }
   ],
   "source": [
    "# to check shape after spliting\n",
    "print('shape of x_train:',x_train.shape)\n",
    "print('shape of y_train:',x_train.shape)\n",
    "print('shape of x_test:',x_test.shape)\n",
    "print('shape of y_test:',y_test.shape)"
   ]
  },
  {
   "cell_type": "markdown",
   "id": "4e60d1da",
   "metadata": {},
   "source": [
    "LogisticReression"
   ]
  },
  {
   "cell_type": "code",
   "execution_count": 56,
   "id": "c1acb974",
   "metadata": {},
   "outputs": [
    {
     "name": "stdout",
     "output_type": "stream",
     "text": [
      "accuracy 93.20754716981132\n",
      "[[229   9]\n",
      " [  9  18]]\n",
      "              precision    recall  f1-score   support\n",
      "\n",
      "           0       0.96      0.96      0.96       238\n",
      "           1       0.67      0.67      0.67        27\n",
      "\n",
      "    accuracy                           0.93       265\n",
      "   macro avg       0.81      0.81      0.81       265\n",
      "weighted avg       0.93      0.93      0.93       265\n",
      "\n"
     ]
    }
   ],
   "source": [
    "#build a logistic regression classifier\n",
    "LR = LogisticRegression()\n",
    "LR.fit(x_train,y_train)\n",
    "predlr = LR.predict(x_test)\n",
    "print('accuracy',accuracy_score(y_test, predlr)*100)\n",
    "print(confusion_matrix(y_test, predlr))\n",
    "print(classification_report(y_test,predlr))"
   ]
  },
  {
   "cell_type": "markdown",
   "id": "a292befc",
   "metadata": {},
   "source": [
    "Random Forest Model"
   ]
  },
  {
   "cell_type": "code",
   "execution_count": 57,
   "id": "2e073c67",
   "metadata": {},
   "outputs": [
    {
     "name": "stdout",
     "output_type": "stream",
     "text": [
      "accuracy 91.69811320754717\n",
      "[[227  11]\n",
      " [ 11  16]]\n",
      "              precision    recall  f1-score   support\n",
      "\n",
      "           0       0.95      0.95      0.95       238\n",
      "           1       0.59      0.59      0.59        27\n",
      "\n",
      "    accuracy                           0.92       265\n",
      "   macro avg       0.77      0.77      0.77       265\n",
      "weighted avg       0.92      0.92      0.92       265\n",
      "\n"
     ]
    }
   ],
   "source": [
    "#build a RandomForestClassifier\n",
    "RF = RandomForestClassifier(random_state=0)\n",
    "RF.fit(x_train, y_train)\n",
    "predlr = RF.predict(x_test)\n",
    "print('accuracy',accuracy_score(y_test, predlr)*100)\n",
    "print(confusion_matrix(y_test, predlr))\n",
    "print(classification_report(y_test,predlr))"
   ]
  },
  {
   "cell_type": "markdown",
   "id": "3428791e",
   "metadata": {},
   "source": [
    "Decision Tree Model"
   ]
  },
  {
   "cell_type": "code",
   "execution_count": 58,
   "id": "c9da5292",
   "metadata": {},
   "outputs": [
    {
     "name": "stdout",
     "output_type": "stream",
     "text": [
      "accuracy 84.90566037735849\n",
      "[[213  25]\n",
      " [ 15  12]]\n",
      "              precision    recall  f1-score   support\n",
      "\n",
      "           0       0.93      0.89      0.91       238\n",
      "           1       0.32      0.44      0.38        27\n",
      "\n",
      "    accuracy                           0.85       265\n",
      "   macro avg       0.63      0.67      0.64       265\n",
      "weighted avg       0.87      0.85      0.86       265\n",
      "\n"
     ]
    }
   ],
   "source": [
    "# build a DecisionTreeClassifier\n",
    "DT = DecisionTreeClassifier(random_state=0)\n",
    "DT.fit(x_train, y_train)\n",
    "predlr = DT.predict(x_test)\n",
    "print('accuracy',accuracy_score(y_test, predlr)*100)\n",
    "print(confusion_matrix(y_test, predlr))\n",
    "print(classification_report(y_test,predlr))"
   ]
  },
  {
   "cell_type": "markdown",
   "id": "cf3139d2",
   "metadata": {},
   "source": [
    "Standard Vector Machine Model"
   ]
  },
  {
   "cell_type": "code",
   "execution_count": 59,
   "id": "3544903c",
   "metadata": {},
   "outputs": [
    {
     "name": "stdout",
     "output_type": "stream",
     "text": [
      "accuracy 92.83018867924528\n",
      "[[232   6]\n",
      " [ 13  14]]\n",
      "              precision    recall  f1-score   support\n",
      "\n",
      "           0       0.95      0.97      0.96       238\n",
      "           1       0.70      0.52      0.60        27\n",
      "\n",
      "    accuracy                           0.93       265\n",
      "   macro avg       0.82      0.75      0.78       265\n",
      "weighted avg       0.92      0.93      0.92       265\n",
      "\n"
     ]
    }
   ],
   "source": [
    "#build a SVC model\n",
    "svc=SVC()\n",
    "svc.fit(x_train,y_train)\n",
    "predlr = svc.predict(x_test)\n",
    "print('accuracy',accuracy_score(y_test, predlr)*100)\n",
    "print(confusion_matrix(y_test, predlr))\n",
    "print(classification_report(y_test,predlr))"
   ]
  },
  {
   "cell_type": "code",
   "execution_count": 60,
   "id": "af2fb8c1",
   "metadata": {},
   "outputs": [
    {
     "name": "stdout",
     "output_type": "stream",
     "text": [
      "cross validation score of random forest model =  0.8721726700971985\n",
      "cross validation score of logistic regression model =  0.8759519725557462\n",
      "cross validation score of desicion tree model =  0.810863350485992\n",
      "cross validation score of standard vector machine model =  0.8729331046312179\n"
     ]
    }
   ],
   "source": [
    "#cross validation to check the accuracy score\n",
    "print('cross validation score of random forest model = ', cross_val_score(RF,x,y,cv=None).mean())\n",
    "print('cross validation score of logistic regression model = ', cross_val_score(LR,x,y,cv=None).mean())\n",
    "print('cross validation score of desicion tree model = ', cross_val_score(DT,x,y,cv=None).mean())\n",
    "print('cross validation score of standard vector machine model = ', cross_val_score(svc,x,y,cv=None).mean())"
   ]
  },
  {
   "cell_type": "markdown",
   "id": "ca575307",
   "metadata": {},
   "source": [
    "Hyper parameter tuning"
   ]
  },
  {
   "cell_type": "code",
   "execution_count": 61,
   "id": "9a9538af",
   "metadata": {},
   "outputs": [],
   "source": [
    "#parameters of LogisticRegression\n",
    "parameter= { 'max_iter': [20, 50, 100, 200, 500, 1000],                      \n",
    "    'solver': ['newton-cg', 'lbfgs', 'liblinear', 'sag', 'saga'],   \n",
    "    'class_weight': ['balanced']}"
   ]
  },
  {
   "cell_type": "code",
   "execution_count": 62,
   "id": "b74f75a0",
   "metadata": {},
   "outputs": [],
   "source": [
    "gcv = GridSearchCV(LogisticRegression(random_state=587), parameter, verbose=1, cv=10, n_jobs=-1)"
   ]
  },
  {
   "cell_type": "code",
   "execution_count": 63,
   "id": "9a1ee7d8",
   "metadata": {},
   "outputs": [
    {
     "name": "stdout",
     "output_type": "stream",
     "text": [
      "Fitting 10 folds for each of 30 candidates, totalling 300 fits\n"
     ]
    },
    {
     "data": {
      "text/plain": [
       "GridSearchCV(cv=10, estimator=LogisticRegression(random_state=587), n_jobs=-1,\n",
       "             param_grid={'class_weight': ['balanced'],\n",
       "                         'max_iter': [20, 50, 100, 200, 500, 1000],\n",
       "                         'solver': ['newton-cg', 'lbfgs', 'liblinear', 'sag',\n",
       "                                    'saga']},\n",
       "             verbose=1)"
      ]
     },
     "execution_count": 63,
     "metadata": {},
     "output_type": "execute_result"
    }
   ],
   "source": [
    "#training the model\n",
    "gcv.fit(x_train,y_train)"
   ]
  },
  {
   "cell_type": "code",
   "execution_count": 64,
   "id": "63235cc9",
   "metadata": {},
   "outputs": [
    {
     "data": {
      "text/plain": [
       "{'class_weight': 'balanced', 'max_iter': 20, 'solver': 'newton-cg'}"
      ]
     },
     "execution_count": 64,
     "metadata": {},
     "output_type": "execute_result"
    }
   ],
   "source": [
    "#finding out which parameter is giving best accuracy\n",
    "gcv.best_params_"
   ]
  },
  {
   "cell_type": "code",
   "execution_count": 65,
   "id": "9b7f8e13",
   "metadata": {},
   "outputs": [
    {
     "data": {
      "text/plain": [
       "sklearn.model_selection._search.GridSearchCV"
      ]
     },
     "execution_count": 65,
     "metadata": {},
     "output_type": "execute_result"
    }
   ],
   "source": [
    "type(gcv)"
   ]
  },
  {
   "cell_type": "code",
   "execution_count": 66,
   "id": "1d60388d",
   "metadata": {},
   "outputs": [
    {
     "data": {
      "text/plain": [
       "LogisticRegression(class_weight='balanced', max_iter=20, random_state=587,\n",
       "                   solver='newton-cg')"
      ]
     },
     "execution_count": 66,
     "metadata": {},
     "output_type": "execute_result"
    }
   ],
   "source": [
    "# finding best estimator\n",
    "gcv.best_estimator_"
   ]
  },
  {
   "cell_type": "code",
   "execution_count": 67,
   "id": "4c7f4b2b",
   "metadata": {},
   "outputs": [
    {
     "name": "stdout",
     "output_type": "stream",
     "text": [
      "80.75471698113208\n"
     ]
    }
   ],
   "source": [
    "# Applying the parameters to the final model\n",
    "pred = gcv.best_estimator_.predict(x_test)\n",
    "acc =accuracy_score(y_test,pred)\n",
    "print(acc*100)"
   ]
  },
  {
   "cell_type": "code",
   "execution_count": 68,
   "id": "1a886a16",
   "metadata": {},
   "outputs": [
    {
     "ename": "TypeError",
     "evalue": "'Text' object is not callable",
     "output_type": "error",
     "traceback": [
      "\u001b[1;31m---------------------------------------------------------------------------\u001b[0m",
      "\u001b[1;31mTypeError\u001b[0m                                 Traceback (most recent call last)",
      "\u001b[1;32m~\\AppData\\Local\\Temp/ipykernel_3148/865859689.py\u001b[0m in \u001b[0;36m<module>\u001b[1;34m\u001b[0m\n\u001b[0;32m      1\u001b[0m \u001b[1;31m#ploting ROC and AUC curve\u001b[0m\u001b[1;33m\u001b[0m\u001b[1;33m\u001b[0m\u001b[0m\n\u001b[0;32m      2\u001b[0m \u001b[0mplot_roc_curve\u001b[0m\u001b[1;33m(\u001b[0m\u001b[0mgcv\u001b[0m\u001b[1;33m.\u001b[0m\u001b[0mbest_estimator_\u001b[0m\u001b[1;33m,\u001b[0m\u001b[0mx_test\u001b[0m\u001b[1;33m,\u001b[0m\u001b[0my_test\u001b[0m\u001b[1;33m)\u001b[0m\u001b[1;33m\u001b[0m\u001b[1;33m\u001b[0m\u001b[0m\n\u001b[1;32m----> 3\u001b[1;33m \u001b[0mplt\u001b[0m\u001b[1;33m.\u001b[0m\u001b[0mtitle\u001b[0m\u001b[1;33m(\u001b[0m\u001b[1;34m'ROC AUC plot'\u001b[0m\u001b[1;33m)\u001b[0m\u001b[1;33m\u001b[0m\u001b[1;33m\u001b[0m\u001b[0m\n\u001b[0m\u001b[0;32m      4\u001b[0m \u001b[0mplt\u001b[0m\u001b[1;33m.\u001b[0m\u001b[0mshow\u001b[0m\u001b[1;33m(\u001b[0m\u001b[1;33m)\u001b[0m\u001b[1;33m\u001b[0m\u001b[1;33m\u001b[0m\u001b[0m\n",
      "\u001b[1;31mTypeError\u001b[0m: 'Text' object is not callable"
     ]
    },
    {
     "data": {
      "image/png": "[encoded data removed]",
      "text/plain": [
       "<Figure size 432x288 with 1 Axes>"
      ]
     },
     "metadata": {
      "needs_background": "light"
     },
     "output_type": "display_data"
    }
   ],
   "source": [
    "#ploting ROC and AUC curve\n",
    "plot_roc_curve(gcv.best_estimator_,x_test,y_test)\n",
    "plt.title('ROC AUC plot')\n",
    "plt.show()"
   ]
  },
  {
   "cell_type": "markdown",
   "id": "26c65284",
   "metadata": {},
   "source": [
    "Final model has 93% accuracy"
   ]
  }
 ],
 "metadata": {
  "kernelspec": {
   "display_name": "Python 3 (ipykernel)",
   "language": "python",
   "name": "python3"
  },
  "language_info": {
   "codemirror_mode": {
    "name": "ipython",
    "version": 3
   },
   "file_extension": ".py",
   "mimetype": "text/x-python",
   "name": "python",
   "nbconvert_exporter": "python",
   "pygments_lexer": "ipython3",
   "version": "3.9.7"
  }
 },
 "nbformat": 4,
 "nbformat_minor": 5
}
